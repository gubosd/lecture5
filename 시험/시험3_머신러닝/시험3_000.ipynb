{
 "cells": [
  {
   "cell_type": "markdown",
   "metadata": {},
   "source": [
    "### 파이썬 기반 빅데이터 분석 실무자 양성과정\n",
    "- 훈련기간 : 2019.1.28 ~ 2019.3.29 (40일)\n",
    "- 강사 : 김현호\n",
    "\n",
    "# 시험 3. 머신러닝 기반 데이터 분석"
   ]
  },
  {
   "cell_type": "markdown",
   "metadata": {},
   "source": [
    "## ※ 수강생 : OOO\n",
    "---"
   ]
  },
  {
   "cell_type": "markdown",
   "metadata": {},
   "source": [
    "### 문제 3-1\n",
    "- sklearn 의 load_iris() 함수를 사용하여 데이터를 불러오라.\n",
    "- 첫번째 샘플과 마지막 샘플의 거리(distance)를 구하라."
   ]
  },
  {
   "cell_type": "markdown",
   "metadata": {},
   "source": [
    "### 문제 3-2\n",
    "- 머신러닝에 적용하는 대표적인 비용함수(Cost Function)은 MSE(Mean Squared Error) 이다.\n",
    "- 아이리스 데이터의 sepal length 와 sepal width 의 관계에서 sepal length = sepal width 라고 가정했을 때, MSE 를 구하라.\n",
    "- `x = iris[:,0]; y = iris[:,1]` 에서, `pred_y = x` 인 경우이다. `y - pred_y` 값을 이용한다."
   ]
  },
  {
   "cell_type": "markdown",
   "metadata": {},
   "source": [
    "### 문제 3-3\n",
    "- 머신러닝의 주요 과제는 '회귀' 와 '분류' 이다.\n",
    "- 이 둘의 차이점을 간단히 설명하라."
   ]
  },
  {
   "cell_type": "markdown",
   "metadata": {},
   "source": [
    "### 문제 3-4\n",
    "- sklearn 의 train_test_split() 함수를 사용하면, 학습세트와 테스트세트로 데이터를 분리할 수 있다.\n",
    "- 학습세트와 테스트세트를 50 대 50 으로 분리하고, stratify 옵션을 사용하여 원본 데이터의 타겟값 비율을 유지하려고 한다.\n",
    "- 이와 같이 적용했을 때, np.bincount() 함수를 사용하여 결과 데이터의 타겟값 비율이 유지됨을 확인하라."
   ]
  },
  {
   "cell_type": "markdown",
   "metadata": {},
   "source": [
    "### 문제 3-5\n",
    "- 분류 모델인 k-NN, SVM, 결정트리 에서 각각 중요한 옵션들이 있다.\n",
    "- 이 옵션들을 설명하고 이 값들이 과적합에 어떤 영향을 주는지 설명하라."
   ]
  },
  {
   "cell_type": "markdown",
   "metadata": {},
   "source": [
    "### 문제 3-6\n",
    "- 로지스틱 회귀에 적용하는 시그모이드(sigmoid) 함수를 그래프로 그려라."
   ]
  },
  {
   "cell_type": "markdown",
   "metadata": {},
   "source": [
    "### 문제 3-7\n",
    "- SVM 모델에서는 데이터의 정규화가 꼭 필요하다.\n",
    "- 데이터를 정규화하는 이유를 설명하고, SVM 에서 정규화가 특별히 중요한 이유를 간단히 설명하라."
   ]
  },
  {
   "cell_type": "markdown",
   "metadata": {},
   "source": [
    "### 문제 3-8\n",
    "- 결정트리 모델에서 과적합을 피하기 위해 여러가지 기법들을 적용할 수 있다.\n",
    "- 각각의 방법들에 대해 설명하라."
   ]
  },
  {
   "cell_type": "markdown",
   "metadata": {},
   "source": [
    "### 문제 3-9\n",
    "- 릿지와 라쏘는 선형회귀의 변형된 모델들이다.\n",
    "- 이 둘은 선형회귀의 비용함수에 특별한 항목들을 추가한다. 각각 추가하는 항목들을 기술하라."
   ]
  },
  {
   "cell_type": "markdown",
   "metadata": {},
   "source": [
    "### 문제 3-10\n",
    "- 유방암 데이터에 PCA(주성분 분석) 을 적용하여 주성분 2개를 구하라.\n",
    "- 이들 주성분이 각각 원본 데이터의 어떤 속성과 관련이 있는지를 설명하라."
   ]
  }
 ],
 "metadata": {
  "kernelspec": {
   "display_name": "Python 3",
   "language": "python",
   "name": "python3"
  },
  "language_info": {
   "codemirror_mode": {
    "name": "ipython",
    "version": 3
   },
   "file_extension": ".py",
   "mimetype": "text/x-python",
   "name": "python",
   "nbconvert_exporter": "python",
   "pygments_lexer": "ipython3",
   "version": "3.7.0"
  }
 },
 "nbformat": 4,
 "nbformat_minor": 2
}

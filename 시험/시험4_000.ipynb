{
 "cells": [
  {
   "cell_type": "markdown",
   "metadata": {},
   "source": [
    "### 파이썬 기반 빅데이터 분석 실무자 양성과정\n",
    "- 훈련기간 : 2019.1.28 ~ 2019.3.29 (40일)\n",
    "- 강사 : 김현호\n",
    "\n",
    "# 시험 4. 통계 기반 데이터 분석"
   ]
  },
  {
   "cell_type": "markdown",
   "metadata": {},
   "source": [
    "## ※ 수강생 : OOO\n",
    "---"
   ]
  },
  {
   "cell_type": "markdown",
   "metadata": {},
   "source": [
    "### 문제 4-1\n",
    "\n",
    "- 아이리스 데이터에서 네가지 속성의 평균과 표준편차를 구하라."
   ]
  },
  {
   "cell_type": "code",
   "execution_count": 1,
   "metadata": {},
   "outputs": [],
   "source": [
    "import numpy as np\n",
    "import pandas as pd\n",
    "import matplotlib.pyplot as plt"
   ]
  },
  {
   "cell_type": "markdown",
   "metadata": {},
   "source": [
    "### 문제 4-2\n",
    "\n",
    "- 유방암 데이터에서 첫번째 속성인 'mean radius' 에 대한 히스토그램을 그려라.\n",
    "- 위의 히스토그램에 평균과 표준편차를 나타내는 수직선을 추가하라."
   ]
  },
  {
   "cell_type": "markdown",
   "metadata": {},
   "source": [
    "### 문제 4-3\n",
    "\n",
    "- np.random.randn() 함수와 plt.hist() 함수를 사용하여 정규분포도를 그려라."
   ]
  },
  {
   "cell_type": "markdown",
   "metadata": {},
   "source": [
    "### 문제 4-4\n",
    "- 아이리스에 로지스틱 회귀를 적용한 후 스코어를 직접 구하려고 한다.\n",
    "- 아래의 소스에서 pred_y 와 iris.target 값을 비교하여 스코어를 구하라."
   ]
  },
  {
   "cell_type": "markdown",
   "metadata": {},
   "source": [
    "### 문제 4-5\n",
    "\n",
    "- 위의 문제에서 잘못 예측한 샘플들의 정보를 조사하라."
   ]
  },
  {
   "cell_type": "markdown",
   "metadata": {},
   "source": [
    "### 문제 4-6\n",
    "\n",
    "- 문제 4-4 에서 구한 pred_y 와 iris.target 값을 이용하여, 오차행렬(Confusion Matrix) 을 구하라."
   ]
  },
  {
   "cell_type": "markdown",
   "metadata": {},
   "source": [
    "### 문제 4-7\n",
    "\n",
    "- 아이리스 데이터에서 4가지 속성들 간의 상관계수를 구하고, 이를 plt.imshow() 로 그려라."
   ]
  },
  {
   "cell_type": "markdown",
   "metadata": {},
   "source": [
    "### 문제 4-8\n",
    "- 아이리스의 타겟값은 세가지 품종을 0, 1, 2 세가지 값으로 나타낸다.\n",
    "- iris.target 을 원핫인코딩(One-Hot-Encoding) 으로 변환하라."
   ]
  },
  {
   "cell_type": "markdown",
   "metadata": {},
   "source": [
    "### 문제 4-9\n",
    "- 아이리스 데이터를 가지고 교차검증(Cross Validation)을 수행하려고 한다.\n",
    "- 폴드를 10개로 놓고 로지스틱회귀를 적용하여 결과를 구하라.\n",
    "- shuffle 은 적용하고, stratify 는 적용하지 않는다."
   ]
  },
  {
   "cell_type": "markdown",
   "metadata": {},
   "source": [
    "### 문제 4-10\n",
    "- 나이브베이즈 모델은 베이즈 공식에 기반한다.\n",
    "- 베이즈 공식을 아래에 적어라.\n",
    "> 마크다운 문법을 이용하여 인터넷의 이미지를 삽입해도 된다.<br>\n",
    "> 예: `<img src=\"http://google.com/a.jpg\">`"
   ]
  }
 ],
 "metadata": {
  "kernelspec": {
   "display_name": "Python 3",
   "language": "python",
   "name": "python3"
  },
  "language_info": {
   "codemirror_mode": {
    "name": "ipython",
    "version": 3
   },
   "file_extension": ".py",
   "mimetype": "text/x-python",
   "name": "python",
   "nbconvert_exporter": "python",
   "pygments_lexer": "ipython3",
   "version": "3.7.0"
  }
 },
 "nbformat": 4,
 "nbformat_minor": 2
}

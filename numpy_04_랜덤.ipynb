{
 "cells": [
  {
   "cell_type": "markdown",
   "metadata": {},
   "source": [
    "# Numpy\n",
    "## 랜덤 생성 함수\n",
    "- np.random.rand()\n",
    "- np.random.randn()\n",
    "- np.random.randint()\n",
    "- np.random.normal()\n",
    "- np.random.uniform()\n",
    "- np.random.permutation()\n",
    "- np.random.choice()\n",
    "- np.random.seed()\n",
    "> 교재 151쪽 참조"
   ]
  },
  {
   "cell_type": "code",
   "execution_count": 2,
   "metadata": {},
   "outputs": [],
   "source": [
    "import numpy as np\n",
    "import matplotlib.pyplot as plt"
   ]
  },
  {
   "cell_type": "markdown",
   "metadata": {},
   "source": [
    "### randn()\n",
    "- 0~1 사이의 임의의 실수 선택 (1은 제외)"
   ]
  },
  {
   "cell_type": "code",
   "execution_count": 20,
   "metadata": {},
   "outputs": [
    {
     "data": {
      "text/plain": [
       "array([[0.69145569, 0.85226481, 0.96660364, 0.5477773 , 0.26042375],\n",
       "       [0.58572197, 0.55467791, 0.06798339, 0.23880588, 0.2739948 ],\n",
       "       [0.45175541, 0.91521044, 0.81908448, 0.89412933, 0.52433527],\n",
       "       [0.92984032, 0.11125667, 0.57431681, 0.13400726, 0.53245724],\n",
       "       [0.27548059, 0.08885914, 0.44219708, 0.85013121, 0.97799069]])"
      ]
     },
     "execution_count": 20,
     "metadata": {},
     "output_type": "execute_result"
    }
   ],
   "source": [
    "a = np.random.rand(5,5) # [0,1) 구간의 잉의수 실수 선택\n",
    "a"
   ]
  },
  {
   "cell_type": "code",
   "execution_count": 21,
   "metadata": {},
   "outputs": [
    {
     "data": {
      "text/plain": [
       "array([[ True,  True,  True,  True, False],\n",
       "       [ True,  True, False, False, False],\n",
       "       [False,  True,  True,  True,  True],\n",
       "       [ True, False,  True, False,  True],\n",
       "       [False, False, False,  True,  True]])"
      ]
     },
     "execution_count": 21,
     "metadata": {},
     "output_type": "execute_result"
    }
   ],
   "source": [
    "a>0.5"
   ]
  },
  {
   "cell_type": "code",
   "execution_count": 22,
   "metadata": {},
   "outputs": [
    {
     "data": {
      "text/plain": [
       "0.5424304432530828"
      ]
     },
     "execution_count": 22,
     "metadata": {},
     "output_type": "execute_result"
    }
   ],
   "source": [
    "a.mean()"
   ]
  },
  {
   "cell_type": "code",
   "execution_count": 23,
   "metadata": {},
   "outputs": [
    {
     "data": {
      "text/plain": [
       "(15, 0.6)"
      ]
     },
     "execution_count": 23,
     "metadata": {},
     "output_type": "execute_result"
    }
   ],
   "source": [
    "(a>0.5).sum(), (a>0.5).mean()"
   ]
  },
  {
   "cell_type": "code",
   "execution_count": 6,
   "metadata": {},
   "outputs": [
    {
     "data": {
      "text/plain": [
       "Text(0.5,1,'Histogram - rand()')"
      ]
     },
     "execution_count": 6,
     "metadata": {},
     "output_type": "execute_result"
    },
    {
     "data": {
      "image/png": "[encoded data removed]",
      "text/plain": [
       "<Figure size 432x288 with 1 Axes>"
      ]
     },
     "metadata": {
      "needs_background": "light"
     },
     "output_type": "display_data"
    }
   ],
   "source": [
    "a2 = np.random.rand(10000)\n",
    "\n",
    "plt.hist(a2)\n",
    "plt.title('Histogram - rand()')"
   ]
  },
  {
   "cell_type": "markdown",
   "metadata": {},
   "source": [
    "### randn()\n",
    "- 평균이 0, 표준편차가 1인 임의의 실수 선택"
   ]
  },
  {
   "cell_type": "code",
   "execution_count": 12,
   "metadata": {},
   "outputs": [
    {
     "data": {
      "text/plain": [
       "array([[ 1.19356349, -1.14469516, -0.64467074, -0.45215659,  0.4331479 ],\n",
       "       [ 0.22300198,  1.48955523, -0.35009662, -2.48592834,  0.9689819 ],\n",
       "       [-1.17622715, -0.49593228, -0.65042889, -1.69016843, -0.06260555],\n",
       "       [ 0.90910046,  0.11868307, -1.03804527,  1.37491551,  0.15115143],\n",
       "       [-0.15233316, -0.76807678,  1.94837689,  3.3234358 ,  0.6782623 ]])"
      ]
     },
     "execution_count": 12,
     "metadata": {},
     "output_type": "execute_result"
    }
   ],
   "source": [
    "a = np.random.randn(5,5)\n",
    "a"
   ]
  },
  {
   "cell_type": "code",
   "execution_count": 13,
   "metadata": {},
   "outputs": [
    {
     "data": {
      "text/plain": [
       "0.06803243995962341"
      ]
     },
     "execution_count": 13,
     "metadata": {},
     "output_type": "execute_result"
    }
   ],
   "source": [
    "a.mean()"
   ]
  },
  {
   "cell_type": "code",
   "execution_count": 15,
   "metadata": {},
   "outputs": [
    {
     "data": {
      "text/plain": [
       "array([[ True, False, False, False,  True],\n",
       "       [ True,  True, False, False,  True],\n",
       "       [False, False, False, False, False],\n",
       "       [ True,  True, False,  True,  True],\n",
       "       [False, False,  True,  True,  True]])"
      ]
     },
     "execution_count": 15,
     "metadata": {},
     "output_type": "execute_result"
    }
   ],
   "source": [
    "a>0"
   ]
  },
  {
   "cell_type": "code",
   "execution_count": 14,
   "metadata": {},
   "outputs": [
    {
     "data": {
      "text/plain": [
       "(12, 0.48)"
      ]
     },
     "execution_count": 14,
     "metadata": {},
     "output_type": "execute_result"
    }
   ],
   "source": [
    "(a>0).sum(), (a>0).mean()"
   ]
  },
  {
   "cell_type": "code",
   "execution_count": 18,
   "metadata": {},
   "outputs": [
    {
     "data": {
      "text/plain": [
       "array([[ True, False, False, False, False],\n",
       "       [False,  True, False, False, False],\n",
       "       [False, False, False, False, False],\n",
       "       [False, False, False,  True, False],\n",
       "       [False, False,  True,  True, False]])"
      ]
     },
     "execution_count": 18,
     "metadata": {},
     "output_type": "execute_result"
    }
   ],
   "source": [
    "a>1"
   ]
  },
  {
   "cell_type": "code",
   "execution_count": 16,
   "metadata": {},
   "outputs": [
    {
     "data": {
      "text/plain": [
       "array([[ 1.        , -1.14469516, -0.64467074, -0.45215659,  0.4331479 ],\n",
       "       [ 0.22300198,  1.        , -0.35009662, -2.48592834,  0.9689819 ],\n",
       "       [-1.17622715, -0.49593228, -0.65042889, -1.69016843, -0.06260555],\n",
       "       [ 0.90910046,  0.11868307, -1.03804527,  1.        ,  0.15115143],\n",
       "       [-0.15233316, -0.76807678,  1.        ,  1.        ,  0.6782623 ]])"
      ]
     },
     "execution_count": 16,
     "metadata": {},
     "output_type": "execute_result"
    }
   ],
   "source": [
    "a2 = a.copy()\n",
    "a2[a2>1] = 1\n",
    "a2"
   ]
  },
  {
   "cell_type": "code",
   "execution_count": 17,
   "metadata": {},
   "outputs": [
    {
     "data": {
      "text/plain": [
       "array([[ 1.        , -1.        , -0.64467074, -0.45215659,  0.4331479 ],\n",
       "       [ 0.22300198,  1.        , -0.35009662, -1.        ,  0.9689819 ],\n",
       "       [-1.        , -0.49593228, -0.65042889, -1.        , -0.06260555],\n",
       "       [ 0.90910046,  0.11868307, -1.        ,  1.        ,  0.15115143],\n",
       "       [-0.15233316, -0.76807678,  1.        ,  1.        ,  0.6782623 ]])"
      ]
     },
     "execution_count": 17,
     "metadata": {},
     "output_type": "execute_result"
    }
   ],
   "source": [
    "a2[a2<-1] = -1\n",
    "a2"
   ]
  },
  {
   "cell_type": "code",
   "execution_count": 9,
   "metadata": {},
   "outputs": [
    {
     "data": {
      "text/plain": [
       "Text(0.5,1,'Histogram - randn()')"
      ]
     },
     "execution_count": 9,
     "metadata": {},
     "output_type": "execute_result"
    },
    {
     "data": {
      "image/png": "[encoded data removed]",
      "text/plain": [
       "<Figure size 432x288 with 1 Axes>"
      ]
     },
     "metadata": {
      "needs_background": "light"
     },
     "output_type": "display_data"
    }
   ],
   "source": [
    "a3 = np.random.randn(1000000)\n",
    "\n",
    "plt.hist(a3, bins=300)\n",
    "plt.title('Histogram - randn()')"
   ]
  },
  {
   "cell_type": "code",
   "execution_count": 10,
   "metadata": {},
   "outputs": [
    {
     "data": {
      "text/plain": [
       "(4.844006803825453, -5.4607598495921765)"
      ]
     },
     "execution_count": 10,
     "metadata": {},
     "output_type": "execute_result"
    }
   ],
   "source": [
    "a3.max(), a3.min()"
   ]
  },
  {
   "cell_type": "markdown",
   "metadata": {},
   "source": [
    "### randint()\n",
    "- 범위 안의 정수 선택"
   ]
  },
  {
   "cell_type": "code",
   "execution_count": 14,
   "metadata": {},
   "outputs": [
    {
     "data": {
      "text/plain": [
       "array([[5, 4, 8],\n",
       "       [3, 8, 9],\n",
       "       [8, 0, 9],\n",
       "       [8, 0, 1]])"
      ]
     },
     "execution_count": 14,
     "metadata": {},
     "output_type": "execute_result"
    }
   ],
   "source": [
    "a = np.random.randint(10, size=[4,3])\n",
    "a"
   ]
  },
  {
   "cell_type": "code",
   "execution_count": 15,
   "metadata": {},
   "outputs": [
    {
     "data": {
      "text/plain": [
       "5.25"
      ]
     },
     "execution_count": 15,
     "metadata": {},
     "output_type": "execute_result"
    }
   ],
   "source": [
    "a.mean()"
   ]
  },
  {
   "cell_type": "code",
   "execution_count": 16,
   "metadata": {},
   "outputs": [
    {
     "data": {
      "text/plain": [
       "array([6.  , 3.  , 6.75])"
      ]
     },
     "execution_count": 16,
     "metadata": {},
     "output_type": "execute_result"
    }
   ],
   "source": [
    "a.mean(axis=0)"
   ]
  },
  {
   "cell_type": "code",
   "execution_count": 17,
   "metadata": {},
   "outputs": [
    {
     "data": {
      "text/plain": [
       "array([5.66666667, 6.66666667, 5.66666667, 3.        ])"
      ]
     },
     "execution_count": 17,
     "metadata": {},
     "output_type": "execute_result"
    }
   ],
   "source": [
    "a.mean(axis=1)"
   ]
  },
  {
   "cell_type": "code",
   "execution_count": 35,
   "metadata": {},
   "outputs": [
    {
     "data": {
      "text/plain": [
       "array([[0, 0, 0, 1, 1, 0, 0, 0, 1, 0],\n",
       "       [0, 0, 0, 0, 0, 0, 1, 1, 1, 0],\n",
       "       [1, 0, 0, 1, 1, 0, 0, 0, 1, 1],\n",
       "       [1, 1, 0, 1, 0, 1, 1, 0, 1, 0],\n",
       "       [1, 0, 0, 1, 1, 1, 0, 1, 1, 0],\n",
       "       [0, 0, 0, 0, 1, 1, 0, 1, 1, 1],\n",
       "       [1, 1, 1, 1, 0, 0, 0, 1, 1, 0],\n",
       "       [0, 0, 0, 0, 1, 1, 0, 0, 0, 0],\n",
       "       [1, 0, 0, 1, 1, 0, 1, 0, 0, 0],\n",
       "       [1, 0, 0, 0, 1, 0, 0, 1, 1, 1]])"
      ]
     },
     "execution_count": 35,
     "metadata": {},
     "output_type": "execute_result"
    }
   ],
   "source": [
    "a = np.random.randint(2, size=[1000,100])\n",
    "a[:10,:10]"
   ]
  },
  {
   "cell_type": "code",
   "execution_count": 38,
   "metadata": {},
   "outputs": [
    {
     "data": {
      "text/plain": [
       "array([49, 51, 46, 56, 46, 53, 58, 43, 54, 53, 56, 47, 56, 49, 50, 46, 51,\n",
       "       37, 48, 52, 49, 54, 50, 57, 50, 54, 50, 55, 47, 56, 54, 50, 51, 53,\n",
       "       52, 58, 58, 56, 52, 57, 39, 59, 51, 43, 47, 52, 49, 55, 48, 52, 51,\n",
       "       49, 48, 56, 64, 45, 40, 51, 48, 55, 50, 50, 52, 56, 48, 47, 51, 52,\n",
       "       52, 56, 51, 59, 55, 46, 53, 53, 44, 43, 45, 52, 60, 52, 50, 61, 55,\n",
       "       54, 50, 55, 58, 51, 49, 47, 39, 52, 50, 49, 53, 44, 58, 49])"
      ]
     },
     "execution_count": 38,
     "metadata": {},
     "output_type": "execute_result"
    }
   ],
   "source": [
    "coin_count = a.sum(axis=1)\n",
    "coin_count[:100]"
   ]
  },
  {
   "cell_type": "code",
   "execution_count": 42,
   "metadata": {},
   "outputs": [
    {
     "data": {
      "text/plain": [
       "(array([ 0.,  0.,  0.,  0.,  0.,  0.,  0.,  0.,  0.,  0.,  0.,  0.,  0.,\n",
       "         0.,  0.,  0.,  0.,  0.,  0.,  0.,  0.,  0.,  0.,  0.,  0.,  0.,\n",
       "         0.,  0.,  0.,  0.,  0.,  0.,  0.,  0.,  0.,  0.,  2.,  2.,  3.,\n",
       "        13.,  9.,  9., 19., 24., 36., 39., 50., 62., 68., 88., 85., 82.,\n",
       "        86., 60., 62., 46., 54., 33., 27., 15., 12.,  9.,  2.,  2.,  1.,\n",
       "         0.,  0.,  0.,  0.,  0.,  0.,  0.,  0.,  0.,  0.,  0.,  0.,  0.,\n",
       "         0.,  0.,  0.,  0.,  0.,  0.,  0.,  0.,  0.,  0.,  0.,  0.,  0.,\n",
       "         0.,  0.,  0.,  0.,  0.,  0.,  0.,  0.,  0.]),\n",
       " array([  0,   1,   2,   3,   4,   5,   6,   7,   8,   9,  10,  11,  12,\n",
       "         13,  14,  15,  16,  17,  18,  19,  20,  21,  22,  23,  24,  25,\n",
       "         26,  27,  28,  29,  30,  31,  32,  33,  34,  35,  36,  37,  38,\n",
       "         39,  40,  41,  42,  43,  44,  45,  46,  47,  48,  49,  50,  51,\n",
       "         52,  53,  54,  55,  56,  57,  58,  59,  60,  61,  62,  63,  64,\n",
       "         65,  66,  67,  68,  69,  70,  71,  72,  73,  74,  75,  76,  77,\n",
       "         78,  79,  80,  81,  82,  83,  84,  85,  86,  87,  88,  89,  90,\n",
       "         91,  92,  93,  94,  95,  96,  97,  98,  99, 100]),\n",
       " <a list of 100 Patch objects>)"
      ]
     },
     "execution_count": 42,
     "metadata": {},
     "output_type": "execute_result"
    },
    {
     "data": {
      "image/png": "[encoded data removed]",
      "text/plain": [
       "<Figure size 432x288 with 1 Axes>"
      ]
     },
     "metadata": {
      "needs_background": "light"
     },
     "output_type": "display_data"
    }
   ],
   "source": [
    "plt.hist(coin_count, bins=range(101))"
   ]
  },
  {
   "cell_type": "code",
   "execution_count": 41,
   "metadata": {},
   "outputs": [
    {
     "data": {
      "text/plain": [
       "[<matplotlib.lines.Line2D at 0x1f6abe6c198>]"
      ]
     },
     "execution_count": 41,
     "metadata": {},
     "output_type": "execute_result"
    },
    {
     "data": {
      "image/png": "[encoded data removed]",
      "text/plain": [
       "<Figure size 432x288 with 1 Axes>"
      ]
     },
     "metadata": {
      "needs_background": "light"
     },
     "output_type": "display_data"
    }
   ],
   "source": [
    "plt.plot(np.bincount(coin_count))"
   ]
  },
  {
   "cell_type": "markdown",
   "metadata": {},
   "source": [
    "### normal()\n",
    "- 평균과 표준편차를 지정하여 랜덤 숫자 선택"
   ]
  },
  {
   "cell_type": "code",
   "execution_count": 49,
   "metadata": {},
   "outputs": [
    {
     "data": {
      "text/plain": [
       "array([ 8.05707465e+00,  1.32314304e+01,  4.08821406e+00,  4.64500014e+00,\n",
       "        1.31827595e+01,  1.12148333e+01,  8.54475045e+00,  6.64353651e-01,\n",
       "        1.26224859e+01,  1.27004571e+01,  3.03329816e+00,  7.66441242e+00,\n",
       "       -1.62276181e+00,  4.27479645e+00,  8.18671555e+00,  1.54692642e+01,\n",
       "        1.61327404e+01,  4.45020138e+00,  1.51638435e+01,  6.29834083e+00,\n",
       "        2.24680358e+01,  1.11131061e+00,  8.34077627e+00,  1.07260978e+01,\n",
       "        2.75400584e+00,  1.35502481e+01,  1.37081747e+01,  2.23433423e+01,\n",
       "        3.03794234e+00,  7.79296918e+00,  6.45135888e+00,  6.17083640e+00,\n",
       "        1.08368607e+01,  1.52507098e+01,  1.47533665e+01,  1.02447071e+01,\n",
       "        2.19011994e+01,  1.19625867e+01,  8.75348664e+00,  1.46068067e+01,\n",
       "        5.68498931e+00,  1.12849351e+01,  1.45650506e+01,  7.72693701e+00,\n",
       "        8.87020824e+00,  5.19861980e+00,  1.43168750e+01,  6.71379585e+00,\n",
       "        8.31775054e+00,  1.16447850e+01,  1.16338028e+01,  7.63413288e+00,\n",
       "        7.90254844e+00,  9.02371879e+00,  5.25561411e+00,  9.43774727e+00,\n",
       "        4.24901937e+00,  8.19006105e+00,  4.99724480e+00,  9.68572591e+00,\n",
       "        7.87912245e+00,  1.28133202e+01,  1.36285989e-02,  1.23964775e+01,\n",
       "        6.40280536e+00,  1.01217435e+01,  3.13585561e+00,  1.45886012e+01,\n",
       "        1.86641559e+01,  8.60123776e+00,  1.32960907e+01,  1.47437117e+01,\n",
       "        1.19207933e+01,  5.83403810e+00,  1.65405727e+01,  1.23060939e+01,\n",
       "        1.45995859e+01, -2.09117045e+00,  8.66858762e+00,  1.45425455e+01,\n",
       "        2.08178064e+01,  1.22972563e+01,  1.02887623e+01,  2.24303431e+01,\n",
       "        8.98626603e+00,  9.23727492e+00,  8.65676375e+00,  1.03924832e+01,\n",
       "        7.09392681e+00,  1.11838953e+01,  1.72514232e+01, -3.61041375e+00,\n",
       "        1.01669423e+01,  7.61524020e+00,  1.12312539e+01,  9.96440785e+00,\n",
       "        1.51363823e+01,  1.16050390e+01,  1.16440860e+01, -9.99659009e-02])"
      ]
     },
     "execution_count": 49,
     "metadata": {},
     "output_type": "execute_result"
    }
   ],
   "source": [
    "a = np.random.normal(10, 5, size=10000)\n",
    "a[:100]"
   ]
  },
  {
   "cell_type": "code",
   "execution_count": 50,
   "metadata": {},
   "outputs": [
    {
     "data": {
      "text/plain": [
       "(array([  1.,   0.,   0.,   0.,   2.,   1.,   4.,   5.,   0.,   2.,   7.,\n",
       "          3.,   8.,   4.,   7.,  10.,   8.,  11.,  21.,  27.,  21.,  33.,\n",
       "         32.,  52.,  49.,  45.,  53.,  61.,  76.,  81., 103., 112., 117.,\n",
       "        126., 149., 158., 156., 185., 173., 217., 232., 223., 233., 250.,\n",
       "        285., 273., 330., 308., 274., 312., 262., 300., 309., 327., 302.,\n",
       "        289., 246., 254., 273., 240., 270., 203., 200., 192., 158., 146.,\n",
       "        142., 126., 101., 100.,  93.,  80.,  87.,  67.,  45.,  55.,  50.,\n",
       "         37.,  33.,  30.,  17.,  19.,  23.,  15.,  17.,  11.,  14.,   5.,\n",
       "          3.,   6.,   4.,   4.,   2.,   1.,   0.,   0.,   0.,   0.,   0.,\n",
       "          2.]),\n",
       " array([-8.90292749, -8.52953101, -8.15613454, -7.78273807, -7.40934159,\n",
       "        -7.03594512, -6.66254864, -6.28915217, -5.9157557 , -5.54235922,\n",
       "        -5.16896275, -4.79556628, -4.4221698 , -4.04877333, -3.67537686,\n",
       "        -3.30198038, -2.92858391, -2.55518744, -2.18179096, -1.80839449,\n",
       "        -1.43499802, -1.06160154, -0.68820507, -0.3148086 ,  0.05858788,\n",
       "         0.43198435,  0.80538082,  1.1787773 ,  1.55217377,  1.92557024,\n",
       "         2.29896672,  2.67236319,  3.04575966,  3.41915614,  3.79255261,\n",
       "         4.16594908,  4.53934556,  4.91274203,  5.2861385 ,  5.65953498,\n",
       "         6.03293145,  6.40632793,  6.7797244 ,  7.15312087,  7.52651735,\n",
       "         7.89991382,  8.27331029,  8.64670677,  9.02010324,  9.39349971,\n",
       "         9.76689619, 10.14029266, 10.51368913, 10.88708561, 11.26048208,\n",
       "        11.63387855, 12.00727503, 12.3806715 , 12.75406797, 13.12746445,\n",
       "        13.50086092, 13.87425739, 14.24765387, 14.62105034, 14.99444681,\n",
       "        15.36784329, 15.74123976, 16.11463623, 16.48803271, 16.86142918,\n",
       "        17.23482565, 17.60822213, 17.9816186 , 18.35501507, 18.72841155,\n",
       "        19.10180802, 19.47520449, 19.84860097, 20.22199744, 20.59539392,\n",
       "        20.96879039, 21.34218686, 21.71558334, 22.08897981, 22.46237628,\n",
       "        22.83577276, 23.20916923, 23.5825657 , 23.95596218, 24.32935865,\n",
       "        24.70275512, 25.0761516 , 25.44954807, 25.82294454, 26.19634102,\n",
       "        26.56973749, 26.94313396, 27.31653044, 27.68992691, 28.06332338,\n",
       "        28.43671986]),\n",
       " <a list of 100 Patch objects>)"
      ]
     },
     "execution_count": 50,
     "metadata": {},
     "output_type": "execute_result"
    },
    {
     "data": {
      "image/png": "[encoded data removed]",
      "text/plain": [
       "<Figure size 432x288 with 1 Axes>"
      ]
     },
     "metadata": {
      "needs_background": "light"
     },
     "output_type": "display_data"
    }
   ],
   "source": [
    "plt.hist(a, bins=100)"
   ]
  },
  {
   "cell_type": "code",
   "execution_count": 51,
   "metadata": {},
   "outputs": [
    {
     "data": {
      "text/plain": [
       "9.952188338383548"
      ]
     },
     "execution_count": 51,
     "metadata": {},
     "output_type": "execute_result"
    }
   ],
   "source": [
    "a.mean()"
   ]
  },
  {
   "cell_type": "code",
   "execution_count": 52,
   "metadata": {},
   "outputs": [
    {
     "data": {
      "text/plain": [
       "4.980144459482678"
      ]
     },
     "execution_count": 52,
     "metadata": {},
     "output_type": "execute_result"
    }
   ],
   "source": [
    "a.std()"
   ]
  },
  {
   "cell_type": "code",
   "execution_count": 53,
   "metadata": {},
   "outputs": [
    {
     "data": {
      "text/plain": [
       "18"
      ]
     },
     "execution_count": 53,
     "metadata": {},
     "output_type": "execute_result"
    }
   ],
   "source": [
    "(a<-5).sum()"
   ]
  },
  {
   "cell_type": "code",
   "execution_count": 54,
   "metadata": {},
   "outputs": [
    {
     "data": {
      "text/plain": [
       "11"
      ]
     },
     "execution_count": 54,
     "metadata": {},
     "output_type": "execute_result"
    }
   ],
   "source": [
    "(a>25).sum()"
   ]
  },
  {
   "cell_type": "markdown",
   "metadata": {},
   "source": [
    "### uniform()\n",
    "- 정해진 범위 내에서 실수 선택"
   ]
  },
  {
   "cell_type": "code",
   "execution_count": 55,
   "metadata": {},
   "outputs": [
    {
     "data": {
      "text/plain": [
       "array([102.21735183, 176.64951212, 128.97175954, 112.54389272,\n",
       "       142.99238236, 193.66719122, 187.09796665, 122.81487852,\n",
       "       185.22620696, 151.07884831, 165.1823286 , 140.87305884,\n",
       "       171.05005463, 179.71302242, 116.32575046, 142.10161082,\n",
       "       111.59344099, 181.11409392, 181.00685306, 133.21600355,\n",
       "       130.46616863, 164.04901747, 194.72458683, 171.91154553,\n",
       "       121.49144213, 120.14056187, 192.19388098, 127.48697764,\n",
       "       152.98308203, 124.38538749, 107.27842402, 136.71889966,\n",
       "       178.61640479, 164.21123678, 177.37892805, 126.08615402,\n",
       "       197.53565801, 103.43415529, 147.93004271, 189.10916617,\n",
       "       153.47869577, 143.00564587, 157.18348118, 186.21901094,\n",
       "       172.45708373, 185.80230949, 195.5303073 , 152.9075392 ,\n",
       "       185.43961827, 109.54919296, 188.95743365, 183.30638743,\n",
       "       101.65125079, 170.72589976, 140.99507493, 192.33061146,\n",
       "       186.96916252, 145.01072866, 197.07237997, 175.2214756 ,\n",
       "       189.08940168, 158.96898356, 128.83086085, 198.97290124,\n",
       "       121.47479096, 155.80295988, 135.58702076, 188.06502189,\n",
       "       102.04948663, 184.62250884, 164.12005556, 117.65652907,\n",
       "       105.93258536, 147.83040499, 166.06628603, 168.76394234,\n",
       "       151.09403169, 163.37737501, 170.51105808, 195.67096863,\n",
       "       180.07374817, 115.54969185, 192.55016589, 151.89226885,\n",
       "       125.351376  , 158.76766211, 112.76205102, 111.77477338,\n",
       "       145.17028602, 142.4104717 , 193.41692939, 137.92648747,\n",
       "       199.93075279, 101.8673155 , 163.17144945, 171.57446495,\n",
       "       189.60118912, 165.55773049, 145.96864166, 144.44665445])"
      ]
     },
     "execution_count": 55,
     "metadata": {},
     "output_type": "execute_result"
    }
   ],
   "source": [
    "a = np.random.uniform(100, 200, size=100)\n",
    "a"
   ]
  },
  {
   "cell_type": "code",
   "execution_count": 56,
   "metadata": {},
   "outputs": [
    {
     "data": {
      "text/plain": [
       "(array([ 8.,  8., 10.,  5., 11., 10.,  9., 12., 15., 12.]),\n",
       " array([101.65125079, 111.47920099, 121.30715119, 131.13510139,\n",
       "        140.96305159, 150.79100179, 160.61895199, 170.44690219,\n",
       "        180.27485239, 190.10280259, 199.93075279]),\n",
       " <a list of 10 Patch objects>)"
      ]
     },
     "execution_count": 56,
     "metadata": {},
     "output_type": "execute_result"
    },
    {
     "data": {
      "image/png": "[encoded data removed]",
      "text/plain": [
       "<Figure size 432x288 with 1 Axes>"
      ]
     },
     "metadata": {
      "needs_background": "light"
     },
     "output_type": "display_data"
    }
   ],
   "source": [
    "plt.hist(a)"
   ]
  },
  {
   "cell_type": "markdown",
   "metadata": {},
   "source": [
    "### permutation()\n",
    "- 숫자를 임의로 섞는다\n",
    "- 중복되지 않은 인덱스를 뽑아 낼 수 있다"
   ]
  },
  {
   "cell_type": "code",
   "execution_count": 18,
   "metadata": {},
   "outputs": [
    {
     "data": {
      "text/plain": [
       "array([ 0,  1,  2,  3,  4,  5,  6,  7,  8,  9, 10, 11, 12, 13, 14, 15, 16,\n",
       "       17, 18, 19, 20, 21, 22, 23, 24, 25, 26, 27, 28, 29, 30, 31, 32, 33,\n",
       "       34, 35, 36, 37, 38, 39, 40, 41, 42, 43, 44, 45, 46, 47, 48, 49, 50,\n",
       "       51, 52, 53, 54, 55, 56, 57, 58, 59, 60, 61, 62, 63, 64, 65, 66, 67,\n",
       "       68, 69, 70, 71, 72, 73, 74, 75, 76, 77, 78, 79, 80, 81, 82, 83, 84,\n",
       "       85, 86, 87, 88, 89, 90, 91, 92, 93, 94, 95, 96, 97, 98, 99])"
      ]
     },
     "execution_count": 18,
     "metadata": {},
     "output_type": "execute_result"
    }
   ],
   "source": [
    "a = np.arange(100)\n",
    "a"
   ]
  },
  {
   "cell_type": "code",
   "execution_count": 19,
   "metadata": {},
   "outputs": [
    {
     "data": {
      "text/plain": [
       "array([13,  2, 58, 22, 87, 60,  9,  8, 89, 23, 47, 78, 86, 69, 10, 32, 96,\n",
       "       53, 24, 72, 38, 62, 97, 18, 73, 48, 39, 74, 92, 90, 59, 70, 65, 51,\n",
       "       20, 94, 37,  1, 35, 46, 44, 99, 93, 28, 54, 33,  0, 63, 50, 80, 77,\n",
       "       67, 30, 56, 19, 36, 43, 55, 79, 68, 16, 76, 41,  7, 29, 85, 95, 12,\n",
       "       49, 83, 42, 52,  5, 57, 84, 21, 98,  6, 91, 45, 25, 26, 66, 81, 31,\n",
       "       27, 88, 82,  3,  4, 14, 64, 34, 61, 11, 71, 40, 15, 75, 17])"
      ]
     },
     "execution_count": 19,
     "metadata": {},
     "output_type": "execute_result"
    }
   ],
   "source": [
    "a2 = np.random.permutation(a)\n",
    "a2"
   ]
  },
  {
   "cell_type": "code",
   "execution_count": 67,
   "metadata": {},
   "outputs": [
    {
     "data": {
      "text/plain": [
       "[<matplotlib.lines.Line2D at 0x1f6ad406668>]"
      ]
     },
     "execution_count": 67,
     "metadata": {},
     "output_type": "execute_result"
    },
    {
     "data": {
      "image/png": "[encoded data removed]",
      "text/plain": [
       "<Figure size 432x288 with 1 Axes>"
      ]
     },
     "metadata": {
      "needs_background": "light"
     },
     "output_type": "display_data"
    }
   ],
   "source": [
    "plt.plot(a2)"
   ]
  },
  {
   "cell_type": "markdown",
   "metadata": {},
   "source": [
    "> **연습문제**<br>\n",
    "> Iris 데이터를 줄 단위로(샘플 단위로) 섞으세요."
   ]
  },
  {
   "cell_type": "markdown",
   "metadata": {},
   "source": [
    "### choice()\n",
    "- 주어진 데이터에서 임의로 뽑는다\n",
    "- (**주의**) 반복 선택이 가능하다"
   ]
  },
  {
   "cell_type": "code",
   "execution_count": 68,
   "metadata": {},
   "outputs": [
    {
     "data": {
      "text/plain": [
       "array([0, 1, 2, 3, 4, 5, 6, 7, 8, 9])"
      ]
     },
     "execution_count": 68,
     "metadata": {},
     "output_type": "execute_result"
    }
   ],
   "source": [
    "a = np.arange(10)\n",
    "a"
   ]
  },
  {
   "cell_type": "code",
   "execution_count": 69,
   "metadata": {},
   "outputs": [
    {
     "data": {
      "text/plain": [
       "array([1, 2, 6, 2, 3, 4, 4, 0, 9, 4, 1, 8, 4, 3, 0, 8, 2, 3, 9, 7, 9, 6,\n",
       "       7, 1, 6, 6, 0, 4, 6, 1, 8, 0, 0, 4, 3, 6, 9, 2, 6, 9, 3, 4, 4, 5,\n",
       "       7, 2, 5, 9, 9, 8, 7, 7, 5, 1, 3, 2, 9, 5, 0, 1, 5, 8, 5, 4, 4, 8,\n",
       "       7, 3, 5, 9, 7, 1, 4, 7, 2, 0, 6, 1, 8, 0, 5, 8, 3, 2, 0, 7, 3, 9,\n",
       "       2, 2, 0, 7, 4, 2, 0, 6, 0, 9, 8, 5])"
      ]
     },
     "execution_count": 69,
     "metadata": {},
     "output_type": "execute_result"
    }
   ],
   "source": [
    "np.random.choice(a,100)"
   ]
  },
  {
   "cell_type": "code",
   "execution_count": 70,
   "metadata": {},
   "outputs": [
    {
     "data": {
      "text/plain": [
       "array([0, 0, 0, 1, 1, 1, 0, 1, 0, 1])"
      ]
     },
     "execution_count": 70,
     "metadata": {},
     "output_type": "execute_result"
    }
   ],
   "source": [
    "np.random.choice([0,1], 10)"
   ]
  },
  {
   "cell_type": "markdown",
   "metadata": {},
   "source": [
    "### seed()\n",
    "- 동일한 실험 결과를 위해 랜덤 발생을 고정시킨다"
   ]
  },
  {
   "cell_type": "code",
   "execution_count": 74,
   "metadata": {},
   "outputs": [
    {
     "data": {
      "text/plain": [
       "array([0, 0, 1, 1, 0, 0, 0, 0, 1, 1])"
      ]
     },
     "metadata": {},
     "output_type": "display_data"
    },
    {
     "data": {
      "text/plain": [
       "array([0, 0, 0, 0, 1, 0, 1, 1, 0, 0])"
      ]
     },
     "metadata": {},
     "output_type": "display_data"
    }
   ],
   "source": [
    "np.random.seed(2019)\n",
    "a = np.random.randint(2, size=10)\n",
    "b = np.random.randint(2, size=10)\n",
    "display(a,b)"
   ]
  },
  {
   "cell_type": "code",
   "execution_count": 75,
   "metadata": {},
   "outputs": [
    {
     "data": {
      "text/plain": [
       "array([0, 0, 1, 1, 0, 0, 0, 0, 1, 1])"
      ]
     },
     "metadata": {},
     "output_type": "display_data"
    },
    {
     "data": {
      "text/plain": [
       "array([0, 0, 0, 0, 1, 0, 1, 1, 0, 0])"
      ]
     },
     "metadata": {},
     "output_type": "display_data"
    }
   ],
   "source": [
    "np.random.seed(2019)\n",
    "a = np.random.randint(2, size=10)\n",
    "b = np.random.randint(2, size=10)\n",
    "display(a,b)"
   ]
  }
 ],
 "metadata": {
  "kernelspec": {
   "display_name": "Python 3",
   "language": "python",
   "name": "python3"
  },
  "language_info": {
   "codemirror_mode": {
    "name": "ipython",
    "version": 3
   },
   "file_extension": ".py",
   "mimetype": "text/x-python",
   "name": "python",
   "nbconvert_exporter": "python",
   "pygments_lexer": "ipython3",
   "version": "3.7.0"
  }
 },
 "nbformat": 4,
 "nbformat_minor": 2
}

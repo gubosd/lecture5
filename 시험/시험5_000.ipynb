{
 "cells": [
  {
   "cell_type": "markdown",
   "metadata": {},
   "source": [
    "### 파이썬 기반 빅데이터 분석 실무자 양성과정\n",
    "- 훈련기간 : 2019.1.28 ~ 2019.3.29 (40일)\n",
    "- 강사 : 김현호\n",
    "\n",
    "# 시험 5. 텍스트마이닝 기반 데이터 분석"
   ]
  },
  {
   "cell_type": "markdown",
   "metadata": {},
   "source": [
    "## ※ 수강생 : OOO\n",
    "---"
   ]
  },
  {
   "cell_type": "markdown",
   "metadata": {},
   "source": [
    "### 문제 5-1\n",
    "\n",
    "- 지하철 데이터를 불러와 노선명을 숫자로 코드화하라"
   ]
  },
  {
   "cell_type": "code",
   "execution_count": 1,
   "metadata": {},
   "outputs": [],
   "source": [
    "import numpy as np\n",
    "import pandas as pd\n",
    "import matplotlib.pyplot as plt"
   ]
  },
  {
   "cell_type": "markdown",
   "metadata": {},
   "source": [
    "### 문제 5-2\n",
    "\n",
    "- 지하철 데이터를 불러와 '사용일자' 필드를 pandas 의 datetime 타입으로 바꾸고, 원본 데이터에 '년', '월', '일' 세 필드를 추가하라."
   ]
  },
  {
   "cell_type": "markdown",
   "metadata": {},
   "source": [
    "### 문제 5-3\n",
    "\n",
    "- 텍스트 데이터에서 자주 사용하는 아래 용어들을 설명하라.\n",
    "- corpus, document, NLP, 형태소분석"
   ]
  },
  {
   "cell_type": "markdown",
   "metadata": {},
   "source": [
    "### 문제 5-4\n",
    "- 파이썬에는 일반적인 문자열 이외에 '바이트 문자열' 이라는 것이 있다.\n",
    "- 이와 관련된 encode(), decode() 함수의 사용 예를 들어라."
   ]
  },
  {
   "cell_type": "markdown",
   "metadata": {},
   "source": [
    "### 문제 5-5\n",
    "\n",
    "- 텍스트 데이터의 전처리의 핵심 기능은 단어집(BOW) 를 만드는 것이다.\n",
    "- sklearn 에서 단어집을 만드는 주요 클래스는 CountVectorizer 이다.\n",
    "- CountVectorizer 의 주요 옵션들을 설명하라."
   ]
  },
  {
   "cell_type": "markdown",
   "metadata": {},
   "source": [
    "### 문제 5-6\n",
    "\n",
    "- 텍스트 분류 문제에서 자주 사용하는 두가지 머신러닝 분류 모델은 무엇인가?"
   ]
  },
  {
   "cell_type": "markdown",
   "metadata": {},
   "source": [
    "### 문제 5-7\n",
    "\n",
    "- IMDb 데이터의 \"모델 계수 조사\" 결과 그래프가 의미하는 내용을 설명하라."
   ]
  },
  {
   "cell_type": "markdown",
   "metadata": {},
   "source": [
    "\n",
    "### 문제 5-8\n",
    "- 텍스트 데이터의 주제를 분류하기 위한 기능으로 LDA 가 있다.\n",
    "- LDA 로 IMDb 데이터의 주제를 뽑아보면 몇가지 영화 장르를 추측할 수 있다.\n",
    "- 어떤 장르가 추측되는지 간단히 설명하라."
   ]
  },
  {
   "cell_type": "markdown",
   "metadata": {},
   "source": [
    "### 문제 5-9\n",
    "- 한국어 형태분석기인 konlpy 를 이용하여 신문 기사의 몇 문장을 형태소 분석해 보라."
   ]
  },
  {
   "cell_type": "markdown",
   "metadata": {},
   "source": [
    "### 문제 5-10\n",
    "- 다음 문장을 연속된 두 단어씩 묶어 단어집을 만들어라. (파이썬 기본 기능만 사용)"
   ]
  }
 ],
 "metadata": {
  "kernelspec": {
   "display_name": "Python 3",
   "language": "python",
   "name": "python3"
  },
  "language_info": {
   "codemirror_mode": {
    "name": "ipython",
    "version": 3
   },
   "file_extension": ".py",
   "mimetype": "text/x-python",
   "name": "python",
   "nbconvert_exporter": "python",
   "pygments_lexer": "ipython3",
   "version": "3.7.0"
  }
 },
 "nbformat": 4,
 "nbformat_minor": 2
}

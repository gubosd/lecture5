{
 "cells": [
  {
   "cell_type": "markdown",
   "metadata": {},
   "source": [
    "### 파이썬 기반 빅데이터 분석 실무자 양성과정\n",
    "- 훈련기간 : 2019.1.28 ~ 2019.3.29 (40일)\n",
    "- 강사 : 김현호\n",
    "\n",
    "# 시험 2. 빅데이터 분석 결과 시각화"
   ]
  },
  {
   "cell_type": "markdown",
   "metadata": {},
   "source": [
    "## ※ 수강생 : OOO\n",
    "---"
   ]
  },
  {
   "cell_type": "markdown",
   "metadata": {},
   "source": [
    "### 문제 2-1\n",
    "- 2010년 부터 2018년 까지 매년 수집한 데이터가 아래와 같다. 이를 matplotlib 의 plot 함수를 사용하여 직선 그래프로 나타내시오.\n",
    "- 직선은 빨간색 실선으로, 마커는 사각형으로 표시하시오.\n",
    "- x축의 눈금은 년도를 나타내는 숫자로 표시하시오"
   ]
  },
  {
   "cell_type": "code",
   "execution_count": 5,
   "metadata": {},
   "outputs": [],
   "source": [
    "data = [102, 105, 108, 129, 166, 170, 181, 182, 182]"
   ]
  },
  {
   "cell_type": "markdown",
   "metadata": {},
   "source": [
    "### 문제 2-2\n",
    "- Iris 데이터에서 sepal length 와 petal length 두 속성에 대한 산점도를 그리시오.\n",
    "- 산점도에서 점의 색깔은 품종을 나타내고, 점의 크기는 sepal width 를 나타내시오."
   ]
  },
  {
   "cell_type": "markdown",
   "metadata": {},
   "source": [
    "### 문제 2-3\n",
    "- np.random.noraml() 함수를 사용하여 평균이 x축은 평균이 5, 표준편차가 3 이고, y축은 평균이 3, 표준편차가 2 인 샘플을 1000개 만들어서 이를 산점도로 표시하시오.\n",
    "- 위의 산점도에서 축의 비율을 일정하게 놓으시오. (x축과 y축의 눈금길이가 일정하도록 한다. plt.axis() 함수 사용)"
   ]
  },
  {
   "cell_type": "markdown",
   "metadata": {},
   "source": [
    "### 문제 2-4\n",
    "- 임의의 그래프를 하나 그린 다음, 제목, x축 이름, y축 이름, 범례에 한글로 된 글자를 넣으시오."
   ]
  },
  {
   "cell_type": "markdown",
   "metadata": {},
   "source": [
    "### 문제 2-5\n",
    "- 통에 동전이 100개 들어있다. 한 번 던질 때 마다 앞면이 나온 동전들의 갯수를 적는다.\n",
    "- 통을 1000번 던졌을 때, 앞면이 나온 횟수의 분포를 히스토그램으로 나타내시오.\n",
    "> - 앞면이 나온 횟수는 [56,63,48,51,...] 과 같이 길이가 1000인 리스트로 표현할 수 있다.\n",
    "> - np.random.randint(2, size=[1000,100]) 함수를 사용하면 편리하게 구현할 수 있다."
   ]
  },
  {
   "cell_type": "markdown",
   "metadata": {},
   "source": [
    "### 문제 2-6\n",
    "- Iris 데이터의 4가지 속성을 박스플롯 으로 그리시오.\n",
    "- 그리고, 위 그래프를 보고 확인할 수 있는 Iris 데이터의 특징들을 간단히 기술하시오."
   ]
  },
  {
   "cell_type": "markdown",
   "metadata": {},
   "source": [
    "### 문제 2-7\n",
    "- 1) 임의의 컬러 사진을 plt.imshow() 함수로 표시하시오.\n",
    "- 2) 세가지 채널 중 빨간색 채널을 분리해 표시하시오."
   ]
  },
  {
   "cell_type": "markdown",
   "metadata": {},
   "source": [
    "### 문제 2-8\n",
    "- plt.subplot() 과 plt.subplots() 의 차이점을 설명하시오."
   ]
  },
  {
   "cell_type": "markdown",
   "metadata": {},
   "source": [
    "### 문제 2-9\n",
    "- Iris 데이터의 4가지 속성의 히스토그램을 2X2 모양의 서브플롯으로 표시하시오."
   ]
  },
  {
   "cell_type": "markdown",
   "metadata": {},
   "source": [
    "### 문제 2-10\n",
    "- 아래는 밤하늘의 별모양을 흉내낸 것이다.\n",
    "- 여기서 vmax=10, cmap='gray_r' 의 효과를 설명하시오."
   ]
  },
  {
   "cell_type": "code",
   "execution_count": 17,
   "metadata": {},
   "outputs": [
    {
     "data": {
      "text/plain": [
       "<matplotlib.colorbar.Colorbar at 0x25a2ac4c3c8>"
      ]
     },
     "execution_count": 17,
     "metadata": {},
     "output_type": "execute_result"
    },
    {
     "data": {
      "image/png": "[encoded data removed]",
      "text/plain": [
       "<Figure size 432x288 with 2 Axes>"
      ]
     },
     "metadata": {
      "needs_background": "light"
     },
     "output_type": "display_data"
    }
   ],
   "source": [
    "import numpy as np\n",
    "import matplotlib.pyplot as plt\n",
    "\n",
    "star = np.random.randint(1000, size=[200,200])\n",
    "plt.imshow(star, vmax=10, cmap='gray_r')\n",
    "plt.colorbar()"
   ]
  }
 ],
 "metadata": {
  "kernelspec": {
   "display_name": "Python 3",
   "language": "python",
   "name": "python3"
  },
  "language_info": {
   "codemirror_mode": {
    "name": "ipython",
    "version": 3
   },
   "file_extension": ".py",
   "mimetype": "text/x-python",
   "name": "python",
   "nbconvert_exporter": "python",
   "pygments_lexer": "ipython3",
   "version": "3.7.0"
  }
 },
 "nbformat": 4,
 "nbformat_minor": 2
}

{
 "cells": [
  {
   "cell_type": "markdown",
   "metadata": {},
   "source": [
    "### 파이썬 기반 빅데이터 분석 실무자 양성과정\n",
    "- 훈련기간 : 2019.1.28 ~ 2019.3.29 (40일)\n",
    "- 강사 : 김현호\n",
    "\n",
    "# 시험 1. 분석용 데이터 탐색"
   ]
  },
  {
   "cell_type": "markdown",
   "metadata": {},
   "source": [
    "## ※ 수강생 : OOO\n",
    "---"
   ]
  },
  {
   "cell_type": "markdown",
   "metadata": {},
   "source": [
    "### 문제 1-1\n",
    "- 파이썬의 주석을 다는 방법에는 두 가지가 있다.\n",
    "- 이 둘을 설명하거나 예제를 들어라."
   ]
  },
  {
   "cell_type": "markdown",
   "metadata": {},
   "source": [
    "### 문제 1-2\n",
    "- 파이썬에는 % 기호를 이용해 나머지를 구할 수 있다.\n",
    "- 이를 이용하여 0~100 사이의 정수 중에 홀수를 출력하거나 리스트로 만들어라."
   ]
  },
  {
   "cell_type": "markdown",
   "metadata": {},
   "source": [
    "### 문제 1-3\n",
    "아래의 코드에서 문자열 s 를 ':' 으로 구분하여 리스트로 저장하라. "
   ]
  },
  {
   "cell_type": "code",
   "execution_count": 1,
   "metadata": {},
   "outputs": [],
   "source": [
    "s = '  abc:de:fghi:jkl\\n'"
   ]
  },
  {
   "cell_type": "markdown",
   "metadata": {},
   "source": [
    "### 문제 1-4\n",
    "- 아래의 코드에서 [5,6] 을 추가하는 두가지 방법을 적용하거나 설명하라."
   ]
  },
  {
   "cell_type": "code",
   "execution_count": 2,
   "metadata": {},
   "outputs": [],
   "source": [
    "l = [[1,2], [3,4]]\n",
    "# 결과 [[1,2],[3,4],[5,6]]"
   ]
  },
  {
   "cell_type": "markdown",
   "metadata": {},
   "source": [
    "### 문제 1-5\n",
    "아래에서 리스트의 인덱스 기능을 이용하여 5 를 출력하라."
   ]
  },
  {
   "cell_type": "code",
   "execution_count": 3,
   "metadata": {},
   "outputs": [],
   "source": [
    "l = [[1,2], [3,4], [5,6]]"
   ]
  },
  {
   "cell_type": "markdown",
   "metadata": {},
   "source": [
    "### 문제 1-6\n",
    "[0,1,4,9,16,25] 의 리스트를 for 와 range() 함수를 이용하여 구하라."
   ]
  },
  {
   "cell_type": "markdown",
   "metadata": {},
   "source": [
    "### 문제 1-7\n",
    "- \"iris.csv\" 파일을 open() 으로 열어서, 행의 갯수가 151 임을 확인해 보라.\n",
    "- 그리고, shape 가 (150,4) 인 X 와 (150,) 인 y 로 분리하라. "
   ]
  },
  {
   "cell_type": "markdown",
   "metadata": {},
   "source": [
    "### 문제 1-8\n",
    "np.random.rand(), np.random.randn(), np.random.randint() 세 함수의 차이점을 설명하라."
   ]
  },
  {
   "cell_type": "markdown",
   "metadata": {},
   "source": [
    "### 문제 1-9\n",
    "\"iris.csv\" 를 읽어오면 (150,5) 의 Numpy 어레이로 만들 수 있다. 5개의 속성을 정규화 하라. 즉, 각 속성은 평균은 0, 표준편차가 1이 되어야 한다."
   ]
  },
  {
   "cell_type": "markdown",
   "metadata": {},
   "source": [
    "### 문제 1-10\n",
    "아래의 코드에서 마지막 칼럼의 값이 0 보다 큰 샘플을 모두 구하라."
   ]
  },
  {
   "cell_type": "code",
   "execution_count": 5,
   "metadata": {},
   "outputs": [
    {
     "data": {
      "text/plain": [
       "array([[ 1.08686509,  0.04192578, -0.46303918],\n",
       "       [ 0.68007155, -1.15587657, -0.87801248],\n",
       "       [ 1.00292109, -0.38574459, -1.17220179],\n",
       "       [-0.11093375, -0.01386605,  0.51045482],\n",
       "       [-1.09378995,  0.56393861, -0.82248706],\n",
       "       [ 0.50256434, -0.12366529,  1.27230007],\n",
       "       [ 1.14580119,  0.99983866,  0.64600136],\n",
       "       [-1.04268629,  1.56618272, -0.87862027],\n",
       "       [-1.33569592, -0.72829275, -0.32052512],\n",
       "       [ 0.46691391,  1.06783969, -0.23146139]])"
      ]
     },
     "execution_count": 5,
     "metadata": {},
     "output_type": "execute_result"
    }
   ],
   "source": [
    "import numpy as np\n",
    "a = np.random.randn(10,3)\n",
    "a"
   ]
  }
 ],
 "metadata": {
  "kernelspec": {
   "display_name": "Python 3",
   "language": "python",
   "name": "python3"
  },
  "language_info": {
   "codemirror_mode": {
    "name": "ipython",
    "version": 3
   },
   "file_extension": ".py",
   "mimetype": "text/x-python",
   "name": "python",
   "nbconvert_exporter": "python",
   "pygments_lexer": "ipython3",
   "version": "3.7.0"
  }
 },
 "nbformat": 4,
 "nbformat_minor": 2
}

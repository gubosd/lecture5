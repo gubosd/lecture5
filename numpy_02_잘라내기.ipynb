{
 "cells": [
  {
   "cell_type": "markdown",
   "metadata": {},
   "source": [
    "# Numpy\n",
    "## 어레이 마음대로 잘라내기"
   ]
  },
  {
   "cell_type": "code",
   "execution_count": 1,
   "metadata": {},
   "outputs": [],
   "source": [
    "import numpy as np\n",
    "import matplotlib.pyplot as plt\n",
    "\n",
    "f = open('iris.csv')\n",
    "\n",
    "line = f.readline()\n",
    "features = line.strip().split(',')[:4]\n",
    "\n",
    "labels = ['Iris-setosa', 'Iris-versicolor', 'Iris-virginica']\n",
    "\n",
    "data = []\n",
    "for line in f:\n",
    "    l = line.strip().split(',')\n",
    "    l[:4] = [float(i) for i in l[:4]]\n",
    "    l[4] = labels.index(l[4])\n",
    "    \n",
    "    data.append(l)\n",
    "\n",
    "f.close()\n",
    "\n",
    "iris = np.array(data)"
   ]
  },
  {
   "cell_type": "code",
   "execution_count": 2,
   "metadata": {},
   "outputs": [
    {
     "data": {
      "text/plain": [
       "array([[5.1, 3.5, 1.4, 0.2, 0. ],\n",
       "       [4.9, 3. , 1.4, 0.2, 0. ],\n",
       "       [4.7, 3.2, 1.3, 0.2, 0. ],\n",
       "       [4.6, 3.1, 1.5, 0.2, 0. ],\n",
       "       [5. , 3.6, 1.4, 0.2, 0. ]])"
      ]
     },
     "execution_count": 2,
     "metadata": {},
     "output_type": "execute_result"
    }
   ],
   "source": [
    "iris[:5]"
   ]
  },
  {
   "cell_type": "code",
   "execution_count": 3,
   "metadata": {},
   "outputs": [
    {
     "data": {
      "text/plain": [
       "array([[5.1, 3.5, 1.4, 0.2, 0. ],\n",
       "       [4.7, 3.2, 1.3, 0.2, 0. ],\n",
       "       [5. , 3.6, 1.4, 0.2, 0. ]])"
      ]
     },
     "execution_count": 3,
     "metadata": {},
     "output_type": "execute_result"
    }
   ],
   "source": [
    "iris[ [0,2,4] ]"
   ]
  },
  {
   "cell_type": "code",
   "execution_count": 4,
   "metadata": {},
   "outputs": [
    {
     "data": {
      "text/plain": [
       "array([[5.1, 3.5, 1.4, 0.2, 0. ],\n",
       "       [7. , 3.2, 4.7, 1.4, 1. ],\n",
       "       [6.3, 3.3, 6. , 2.5, 2. ]])"
      ]
     },
     "execution_count": 4,
     "metadata": {},
     "output_type": "execute_result"
    }
   ],
   "source": [
    "iris[[0,50,100]]"
   ]
  },
  {
   "cell_type": "code",
   "execution_count": 36,
   "metadata": {},
   "outputs": [
    {
     "data": {
      "text/plain": [
       "array([[5. , 3.6, 1.4, 0.2, 0. ],\n",
       "       [4.6, 3.1, 1.5, 0.2, 0. ],\n",
       "       [4.7, 3.2, 1.3, 0.2, 0. ],\n",
       "       [4.9, 3. , 1.4, 0.2, 0. ],\n",
       "       [5.1, 3.5, 1.4, 0.2, 0. ]])"
      ]
     },
     "execution_count": 36,
     "metadata": {},
     "output_type": "execute_result"
    }
   ],
   "source": [
    "iris[ [4,3,2,1,0] ]"
   ]
  },
  {
   "cell_type": "code",
   "execution_count": 6,
   "metadata": {},
   "outputs": [
    {
     "data": {
      "text/plain": [
       "array([[5.1, 1.4, 0. ],\n",
       "       [4.9, 1.4, 0. ],\n",
       "       [4.7, 1.3, 0. ],\n",
       "       [4.6, 1.5, 0. ],\n",
       "       [5. , 1.4, 0. ],\n",
       "       [5.4, 1.7, 0. ],\n",
       "       [4.6, 1.4, 0. ],\n",
       "       [5. , 1.5, 0. ],\n",
       "       [4.4, 1.4, 0. ],\n",
       "       [4.9, 1.5, 0. ],\n",
       "       [5.4, 1.5, 0. ],\n",
       "       [4.8, 1.6, 0. ],\n",
       "       [4.8, 1.4, 0. ],\n",
       "       [4.3, 1.1, 0. ],\n",
       "       [5.8, 1.2, 0. ],\n",
       "       [5.7, 1.5, 0. ],\n",
       "       [5.4, 1.3, 0. ],\n",
       "       [5.1, 1.4, 0. ],\n",
       "       [5.7, 1.7, 0. ],\n",
       "       [5.1, 1.5, 0. ],\n",
       "       [5.4, 1.7, 0. ],\n",
       "       [5.1, 1.5, 0. ],\n",
       "       [4.6, 1. , 0. ],\n",
       "       [5.1, 1.7, 0. ],\n",
       "       [4.8, 1.9, 0. ],\n",
       "       [5. , 1.6, 0. ],\n",
       "       [5. , 1.6, 0. ],\n",
       "       [5.2, 1.5, 0. ],\n",
       "       [5.2, 1.4, 0. ],\n",
       "       [4.7, 1.6, 0. ],\n",
       "       [4.8, 1.6, 0. ],\n",
       "       [5.4, 1.5, 0. ],\n",
       "       [5.2, 1.5, 0. ],\n",
       "       [5.5, 1.4, 0. ],\n",
       "       [4.9, 1.5, 0. ],\n",
       "       [5. , 1.2, 0. ],\n",
       "       [5.5, 1.3, 0. ],\n",
       "       [4.9, 1.5, 0. ],\n",
       "       [4.4, 1.3, 0. ],\n",
       "       [5.1, 1.5, 0. ],\n",
       "       [5. , 1.3, 0. ],\n",
       "       [4.5, 1.3, 0. ],\n",
       "       [4.4, 1.3, 0. ],\n",
       "       [5. , 1.6, 0. ],\n",
       "       [5.1, 1.9, 0. ],\n",
       "       [4.8, 1.4, 0. ],\n",
       "       [5.1, 1.6, 0. ],\n",
       "       [4.6, 1.4, 0. ],\n",
       "       [5.3, 1.5, 0. ],\n",
       "       [5. , 1.4, 0. ],\n",
       "       [7. , 4.7, 1. ],\n",
       "       [6.4, 4.5, 1. ],\n",
       "       [6.9, 4.9, 1. ],\n",
       "       [5.5, 4. , 1. ],\n",
       "       [6.5, 4.6, 1. ],\n",
       "       [5.7, 4.5, 1. ],\n",
       "       [6.3, 4.7, 1. ],\n",
       "       [4.9, 3.3, 1. ],\n",
       "       [6.6, 4.6, 1. ],\n",
       "       [5.2, 3.9, 1. ],\n",
       "       [5. , 3.5, 1. ],\n",
       "       [5.9, 4.2, 1. ],\n",
       "       [6. , 4. , 1. ],\n",
       "       [6.1, 4.7, 1. ],\n",
       "       [5.6, 3.6, 1. ],\n",
       "       [6.7, 4.4, 1. ],\n",
       "       [5.6, 4.5, 1. ],\n",
       "       [5.8, 4.1, 1. ],\n",
       "       [6.2, 4.5, 1. ],\n",
       "       [5.6, 3.9, 1. ],\n",
       "       [5.9, 4.8, 1. ],\n",
       "       [6.1, 4. , 1. ],\n",
       "       [6.3, 4.9, 1. ],\n",
       "       [6.1, 4.7, 1. ],\n",
       "       [6.4, 4.3, 1. ],\n",
       "       [6.6, 4.4, 1. ],\n",
       "       [6.8, 4.8, 1. ],\n",
       "       [6.7, 5. , 1. ],\n",
       "       [6. , 4.5, 1. ],\n",
       "       [5.7, 3.5, 1. ],\n",
       "       [5.5, 3.8, 1. ],\n",
       "       [5.5, 3.7, 1. ],\n",
       "       [5.8, 3.9, 1. ],\n",
       "       [6. , 5.1, 1. ],\n",
       "       [5.4, 4.5, 1. ],\n",
       "       [6. , 4.5, 1. ],\n",
       "       [6.7, 4.7, 1. ],\n",
       "       [6.3, 4.4, 1. ],\n",
       "       [5.6, 4.1, 1. ],\n",
       "       [5.5, 4. , 1. ],\n",
       "       [5.5, 4.4, 1. ],\n",
       "       [6.1, 4.6, 1. ],\n",
       "       [5.8, 4. , 1. ],\n",
       "       [5. , 3.3, 1. ],\n",
       "       [5.6, 4.2, 1. ],\n",
       "       [5.7, 4.2, 1. ],\n",
       "       [5.7, 4.2, 1. ],\n",
       "       [6.2, 4.3, 1. ],\n",
       "       [5.1, 3. , 1. ],\n",
       "       [5.7, 4.1, 1. ],\n",
       "       [6.3, 6. , 2. ],\n",
       "       [5.8, 5.1, 2. ],\n",
       "       [7.1, 5.9, 2. ],\n",
       "       [6.3, 5.6, 2. ],\n",
       "       [6.5, 5.8, 2. ],\n",
       "       [7.6, 6.6, 2. ],\n",
       "       [4.9, 4.5, 2. ],\n",
       "       [7.3, 6.3, 2. ],\n",
       "       [6.7, 5.8, 2. ],\n",
       "       [7.2, 6.1, 2. ],\n",
       "       [6.5, 5.1, 2. ],\n",
       "       [6.4, 5.3, 2. ],\n",
       "       [6.8, 5.5, 2. ],\n",
       "       [5.7, 5. , 2. ],\n",
       "       [5.8, 5.1, 2. ],\n",
       "       [6.4, 5.3, 2. ],\n",
       "       [6.5, 5.5, 2. ],\n",
       "       [7.7, 6.7, 2. ],\n",
       "       [7.7, 6.9, 2. ],\n",
       "       [6. , 5. , 2. ],\n",
       "       [6.9, 5.7, 2. ],\n",
       "       [5.6, 4.9, 2. ],\n",
       "       [7.7, 6.7, 2. ],\n",
       "       [6.3, 4.9, 2. ],\n",
       "       [6.7, 5.7, 2. ],\n",
       "       [7.2, 6. , 2. ],\n",
       "       [6.2, 4.8, 2. ],\n",
       "       [6.1, 4.9, 2. ],\n",
       "       [6.4, 5.6, 2. ],\n",
       "       [7.2, 5.8, 2. ],\n",
       "       [7.4, 6.1, 2. ],\n",
       "       [7.9, 6.4, 2. ],\n",
       "       [6.4, 5.6, 2. ],\n",
       "       [6.3, 5.1, 2. ],\n",
       "       [6.1, 5.6, 2. ],\n",
       "       [7.7, 6.1, 2. ],\n",
       "       [6.3, 5.6, 2. ],\n",
       "       [6.4, 5.5, 2. ],\n",
       "       [6. , 4.8, 2. ],\n",
       "       [6.9, 5.4, 2. ],\n",
       "       [6.7, 5.6, 2. ],\n",
       "       [6.9, 5.1, 2. ],\n",
       "       [5.8, 5.1, 2. ],\n",
       "       [6.8, 5.9, 2. ],\n",
       "       [6.7, 5.7, 2. ],\n",
       "       [6.7, 5.2, 2. ],\n",
       "       [6.3, 5. , 2. ],\n",
       "       [6.5, 5.2, 2. ],\n",
       "       [6.2, 5.4, 2. ],\n",
       "       [5.9, 5.1, 2. ]])"
      ]
     },
     "execution_count": 6,
     "metadata": {},
     "output_type": "execute_result"
    }
   ],
   "source": [
    "iris[:, [0,2,4] ]"
   ]
  },
  {
   "cell_type": "code",
   "execution_count": 7,
   "metadata": {},
   "outputs": [
    {
     "data": {
      "text/plain": [
       "array([5.1, 1.3, 0. ])"
      ]
     },
     "execution_count": 7,
     "metadata": {},
     "output_type": "execute_result"
    }
   ],
   "source": [
    "iris[ [0,2,4], [0,2,4] ]"
   ]
  },
  {
   "cell_type": "markdown",
   "metadata": {},
   "source": [
    "### 조건식 적용"
   ]
  },
  {
   "cell_type": "code",
   "execution_count": 6,
   "metadata": {},
   "outputs": [
    {
     "data": {
      "text/plain": [
       "array([[5.1, 3.5, 1.4, 0.2, 0. ],\n",
       "       [7. , 3.2, 4.7, 1.4, 1. ],\n",
       "       [6.3, 3.3, 6. , 2.5, 2. ]])"
      ]
     },
     "execution_count": 6,
     "metadata": {},
     "output_type": "execute_result"
    }
   ],
   "source": [
    "iris2 = iris[[0,50,100]]\n",
    "iris2"
   ]
  },
  {
   "cell_type": "code",
   "execution_count": 14,
   "metadata": {},
   "outputs": [
    {
     "data": {
      "text/plain": [
       "array([[5.1, 3.5, 1.4, 0.2, 0. ],\n",
       "       [6.3, 3.3, 6. , 2.5, 2. ]])"
      ]
     },
     "execution_count": 14,
     "metadata": {},
     "output_type": "execute_result"
    }
   ],
   "source": [
    "iris2[ [True,False,True] ]"
   ]
  },
  {
   "cell_type": "code",
   "execution_count": 16,
   "metadata": {},
   "outputs": [
    {
     "data": {
      "text/plain": [
       "array([[5.1, 3.5, 1.4, 0.2, 0. ],\n",
       "       [6.3, 3.3, 6. , 2.5, 2. ]])"
      ]
     },
     "execution_count": 16,
     "metadata": {},
     "output_type": "execute_result"
    }
   ],
   "source": [
    "# 위와 같은 의미이다\n",
    "iris2[[0,2]]"
   ]
  },
  {
   "cell_type": "code",
   "execution_count": 15,
   "metadata": {},
   "outputs": [
    {
     "data": {
      "text/plain": [
       "array([[5.1, 1.4],\n",
       "       [7. , 4.7],\n",
       "       [6.3, 6. ]])"
      ]
     },
     "execution_count": 15,
     "metadata": {},
     "output_type": "execute_result"
    }
   ],
   "source": [
    "iris2[:, [True,False,True,False,False] ]"
   ]
  },
  {
   "cell_type": "code",
   "execution_count": 17,
   "metadata": {},
   "outputs": [
    {
     "data": {
      "text/plain": [
       "array([[5.1, 1.4],\n",
       "       [7. , 4.7],\n",
       "       [6.3, 6. ]])"
      ]
     },
     "execution_count": 17,
     "metadata": {},
     "output_type": "execute_result"
    }
   ],
   "source": [
    "# 위와 같은 의미이다\n",
    "iris2[:,[0,2]]"
   ]
  },
  {
   "cell_type": "markdown",
   "metadata": {},
   "source": [
    "- Versicolor 와 Virginica 만 골라내 보자"
   ]
  },
  {
   "cell_type": "code",
   "execution_count": 9,
   "metadata": {},
   "outputs": [
    {
     "data": {
      "text/plain": [
       "array([1, 2, 3, 4, 5])"
      ]
     },
     "execution_count": 9,
     "metadata": {},
     "output_type": "execute_result"
    }
   ],
   "source": [
    "a = np.array([1,2,3,4,5])\n",
    "a"
   ]
  },
  {
   "cell_type": "code",
   "execution_count": 10,
   "metadata": {},
   "outputs": [
    {
     "data": {
      "text/plain": [
       "array([False, False, False,  True,  True])"
      ]
     },
     "execution_count": 10,
     "metadata": {},
     "output_type": "execute_result"
    }
   ],
   "source": [
    "a > 3"
   ]
  },
  {
   "cell_type": "code",
   "execution_count": 11,
   "metadata": {},
   "outputs": [
    {
     "data": {
      "text/plain": [
       "array([False, False,  True, False, False])"
      ]
     },
     "execution_count": 11,
     "metadata": {},
     "output_type": "execute_result"
    }
   ],
   "source": [
    "a == 3"
   ]
  },
  {
   "cell_type": "code",
   "execution_count": null,
   "metadata": {},
   "outputs": [],
   "source": []
  },
  {
   "cell_type": "code",
   "execution_count": 12,
   "metadata": {},
   "outputs": [
    {
     "data": {
      "text/plain": [
       "array([[5.1, 3.5, 1.4, 0.2, 0. ],\n",
       "       [7. , 3.2, 4.7, 1.4, 1. ],\n",
       "       [6.3, 3.3, 6. , 2.5, 2. ]])"
      ]
     },
     "execution_count": 12,
     "metadata": {},
     "output_type": "execute_result"
    }
   ],
   "source": [
    "iris2"
   ]
  },
  {
   "cell_type": "code",
   "execution_count": 13,
   "metadata": {},
   "outputs": [
    {
     "data": {
      "text/plain": [
       "array([0., 1., 2.])"
      ]
     },
     "execution_count": 13,
     "metadata": {},
     "output_type": "execute_result"
    }
   ],
   "source": [
    "t = iris2[:, -1]\n",
    "t"
   ]
  },
  {
   "cell_type": "code",
   "execution_count": 14,
   "metadata": {},
   "outputs": [
    {
     "data": {
      "text/plain": [
       "array([ True, False, False])"
      ]
     },
     "execution_count": 14,
     "metadata": {},
     "output_type": "execute_result"
    }
   ],
   "source": [
    "t < 1"
   ]
  },
  {
   "cell_type": "code",
   "execution_count": 15,
   "metadata": {},
   "outputs": [
    {
     "data": {
      "text/plain": [
       "array([[5.1, 3.5, 1.4, 0.2, 0. ]])"
      ]
     },
     "execution_count": 15,
     "metadata": {},
     "output_type": "execute_result"
    }
   ],
   "source": [
    "iris2[ t<1 ]"
   ]
  },
  {
   "cell_type": "code",
   "execution_count": 16,
   "metadata": {},
   "outputs": [
    {
     "data": {
      "text/plain": [
       "array([[5.1, 3.5, 1.4, 0.2, 0. ]])"
      ]
     },
     "execution_count": 16,
     "metadata": {},
     "output_type": "execute_result"
    }
   ],
   "source": [
    "iris2[ [True, False, False]]"
   ]
  },
  {
   "cell_type": "code",
   "execution_count": 19,
   "metadata": {},
   "outputs": [
    {
     "data": {
      "text/plain": [
       "array([0., 1., 2.])"
      ]
     },
     "execution_count": 19,
     "metadata": {},
     "output_type": "execute_result"
    }
   ],
   "source": [
    "iris2[:,-1]"
   ]
  },
  {
   "cell_type": "code",
   "execution_count": 20,
   "metadata": {},
   "outputs": [
    {
     "data": {
      "text/plain": [
       "array([False,  True,  True])"
      ]
     },
     "execution_count": 20,
     "metadata": {},
     "output_type": "execute_result"
    }
   ],
   "source": [
    "iris2[:,-1] > 0"
   ]
  },
  {
   "cell_type": "code",
   "execution_count": 21,
   "metadata": {},
   "outputs": [
    {
     "data": {
      "text/plain": [
       "array([[7. , 3.2, 4.7, 1.4, 1. ],\n",
       "       [6.3, 3.3, 6. , 2.5, 2. ]])"
      ]
     },
     "execution_count": 21,
     "metadata": {},
     "output_type": "execute_result"
    }
   ],
   "source": [
    "iris2[ iris2[:,-1] > 0 ]"
   ]
  },
  {
   "cell_type": "markdown",
   "metadata": {},
   "source": [
    "- Setosa 만 골라내 보자"
   ]
  },
  {
   "cell_type": "code",
   "execution_count": 22,
   "metadata": {},
   "outputs": [
    {
     "data": {
      "text/plain": [
       "array([[5.1, 3.5, 1.4, 0.2, 0. ]])"
      ]
     },
     "execution_count": 22,
     "metadata": {},
     "output_type": "execute_result"
    }
   ],
   "source": [
    "iris2 [ iris2[:,-1]==0 ]"
   ]
  },
  {
   "cell_type": "code",
   "execution_count": 23,
   "metadata": {},
   "outputs": [
    {
     "data": {
      "text/plain": [
       "(50, 5)"
      ]
     },
     "execution_count": 23,
     "metadata": {},
     "output_type": "execute_result"
    }
   ],
   "source": [
    "setosa = iris[ iris[:,-1]==0 ]\n",
    "setosa.shape"
   ]
  },
  {
   "cell_type": "code",
   "execution_count": 17,
   "metadata": {},
   "outputs": [],
   "source": [
    "versicolor = iris[ iris[:,-1]==1 ]\n",
    "virginica = iris[ iris[:,-1]==2 ]"
   ]
  },
  {
   "cell_type": "code",
   "execution_count": null,
   "metadata": {},
   "outputs": [],
   "source": [
    "X = iris[:, :4]\n",
    "y = iris[:, 4]\n",
    "\n",
    "setosa = X[y==0]\n",
    "versicolor = X[y==1]\n",
    "virginica = X[y==2]\n",
    "\n",
    "X [(y>6) | (y<3)]"
   ]
  },
  {
   "cell_type": "markdown",
   "metadata": {},
   "source": [
    "### Iris 데이터 보기좋게 분리하기"
   ]
  },
  {
   "cell_type": "code",
   "execution_count": 24,
   "metadata": {},
   "outputs": [
    {
     "data": {
      "text/plain": [
       "((150, 4), (150,))"
      ]
     },
     "execution_count": 24,
     "metadata": {},
     "output_type": "execute_result"
    }
   ],
   "source": [
    "X = iris[:, :4]\n",
    "y = iris[:, 4]\n",
    "\n",
    "X.shape, y.shape"
   ]
  },
  {
   "cell_type": "code",
   "execution_count": 25,
   "metadata": {},
   "outputs": [
    {
     "data": {
      "text/plain": [
       "array([0., 0., 0., 0., 0., 0., 0., 0., 0., 0., 0., 0., 0., 0., 0., 0., 0.,\n",
       "       0., 0., 0., 0., 0., 0., 0., 0., 0., 0., 0., 0., 0., 0., 0., 0., 0.,\n",
       "       0., 0., 0., 0., 0., 0., 0., 0., 0., 0., 0., 0., 0., 0., 0., 0., 1.,\n",
       "       1., 1., 1., 1., 1., 1., 1., 1., 1., 1., 1., 1., 1., 1., 1., 1., 1.,\n",
       "       1., 1., 1., 1., 1., 1., 1., 1., 1., 1., 1., 1., 1., 1., 1., 1., 1.,\n",
       "       1., 1., 1., 1., 1., 1., 1., 1., 1., 1., 1., 1., 1., 1., 1., 2., 2.,\n",
       "       2., 2., 2., 2., 2., 2., 2., 2., 2., 2., 2., 2., 2., 2., 2., 2., 2.,\n",
       "       2., 2., 2., 2., 2., 2., 2., 2., 2., 2., 2., 2., 2., 2., 2., 2., 2.,\n",
       "       2., 2., 2., 2., 2., 2., 2., 2., 2., 2., 2., 2., 2., 2.])"
      ]
     },
     "execution_count": 25,
     "metadata": {},
     "output_type": "execute_result"
    }
   ],
   "source": [
    "y"
   ]
  },
  {
   "cell_type": "code",
   "execution_count": 27,
   "metadata": {},
   "outputs": [
    {
     "data": {
      "text/plain": [
       "((50, 4), (50, 4), (50, 4))"
      ]
     },
     "execution_count": 27,
     "metadata": {},
     "output_type": "execute_result"
    }
   ],
   "source": [
    "setosa = X[y==0]\n",
    "versicolor = X[y==1]\n",
    "virginica = X[y==2]\n",
    "\n",
    "setosa.shape, versicolor.shape, virginica.shape"
   ]
  },
  {
   "cell_type": "code",
   "execution_count": 30,
   "metadata": {},
   "outputs": [
    {
     "data": {
      "text/plain": [
       "array([5.1, 4.9, 4.7, 4.6, 5. , 5.4, 4.6, 5. , 4.4, 4.9, 5.4, 4.8, 4.8,\n",
       "       4.3, 5.8, 5.7, 5.4, 5.1, 5.7, 5.1, 5.4, 5.1, 4.6, 5.1, 4.8, 5. ,\n",
       "       5. , 5.2, 5.2, 4.7, 4.8, 5.4, 5.2, 5.5, 4.9, 5. , 5.5, 4.9, 4.4,\n",
       "       5.1, 5. , 4.5, 4.4, 5. , 5.1, 4.8, 5.1, 4.6, 5.3, 5. , 7. , 6.4,\n",
       "       6.9, 5.5, 6.5, 5.7, 6.3, 4.9, 6.6, 5.2, 5. , 5.9, 6. , 6.1, 5.6,\n",
       "       6.7, 5.6, 5.8, 6.2, 5.6, 5.9, 6.1, 6.3, 6.1, 6.4, 6.6, 6.8, 6.7,\n",
       "       6. , 5.7, 5.5, 5.5, 5.8, 6. , 5.4, 6. , 6.7, 6.3, 5.6, 5.5, 5.5,\n",
       "       6.1, 5.8, 5. , 5.6, 5.7, 5.7, 6.2, 5.1, 5.7, 6.3, 5.8, 7.1, 6.3,\n",
       "       6.5, 7.6, 4.9, 7.3, 6.7, 7.2, 6.5, 6.4, 6.8, 5.7, 5.8, 6.4, 6.5,\n",
       "       7.7, 7.7, 6. , 6.9, 5.6, 7.7, 6.3, 6.7, 7.2, 6.2, 6.1, 6.4, 7.2,\n",
       "       7.4, 7.9, 6.4, 6.3, 6.1, 7.7, 6.3, 6.4, 6. , 6.9, 6.7, 6.9, 5.8,\n",
       "       6.8, 6.7, 6.7, 6.3, 6.5, 6.2, 5.9])"
      ]
     },
     "execution_count": 30,
     "metadata": {},
     "output_type": "execute_result"
    }
   ],
   "source": [
    "s_len = X[:,0]\n",
    "s_wid = X[:,1]\n",
    "p_len = X[:,2]\n",
    "p_wid = X[:,3]\n",
    "\n",
    "s_len"
   ]
  },
  {
   "cell_type": "markdown",
   "metadata": {},
   "source": [
    "### 그래프 맛보기"
   ]
  },
  {
   "cell_type": "code",
   "execution_count": 31,
   "metadata": {},
   "outputs": [
    {
     "data": {
      "text/plain": [
       "<matplotlib.collections.PathCollection at 0x1eba9eb1908>"
      ]
     },
     "execution_count": 31,
     "metadata": {},
     "output_type": "execute_result"
    },
    {
     "data": {
      "image/png": "[encoded data removed]",
      "text/plain": [
       "<Figure size 432x288 with 1 Axes>"
      ]
     },
     "metadata": {
      "needs_background": "light"
     },
     "output_type": "display_data"
    }
   ],
   "source": [
    "plt.scatter(s_wid, p_wid, c=y)"
   ]
  },
  {
   "cell_type": "code",
   "execution_count": 35,
   "metadata": {},
   "outputs": [
    {
     "data": {
      "text/plain": [
       "Text(0.5,1,'Histogram (SepalLength)')"
      ]
     },
     "execution_count": 35,
     "metadata": {},
     "output_type": "execute_result"
    },
    {
     "data": {
      "image/png": "[encoded data removed]",
      "text/plain": [
       "<Figure size 432x288 with 1 Axes>"
      ]
     },
     "metadata": {
      "needs_background": "light"
     },
     "output_type": "display_data"
    }
   ],
   "source": [
    "plt.hist(s_len, bins=20)\n",
    "plt.title('Histogram (SepalLength)')"
   ]
  },
  {
   "cell_type": "code",
   "execution_count": null,
   "metadata": {},
   "outputs": [],
   "source": []
  }
 ],
 "metadata": {
  "kernelspec": {
   "display_name": "Python 3",
   "language": "python",
   "name": "python3"
  },
  "language_info": {
   "codemirror_mode": {
    "name": "ipython",
    "version": 3
   },
   "file_extension": ".py",
   "mimetype": "text/x-python",
   "name": "python",
   "nbconvert_exporter": "python",
   "pygments_lexer": "ipython3",
   "version": "3.7.0"
  }
 },
 "nbformat": 4,
 "nbformat_minor": 2
}

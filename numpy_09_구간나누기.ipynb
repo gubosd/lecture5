{
 "cells": [
  {
   "cell_type": "markdown",
   "metadata": {},
   "source": [
    "# Numpy\n",
    "## 구간 나누기\n",
    "\n",
    "- np.arange()\n",
    "- np.linspace()\n",
    "- np.bincount()\n",
    "- np.digitize()\n",
    "- np.histogram() => plt.hist()"
   ]
  },
  {
   "cell_type": "code",
   "execution_count": 1,
   "metadata": {},
   "outputs": [],
   "source": [
    "import numpy as np\n",
    "import matplotlib.pyplot as plt"
   ]
  },
  {
   "cell_type": "code",
   "execution_count": 2,
   "metadata": {},
   "outputs": [
    {
     "data": {
      "text/plain": [
       "array([-1.00000000e+00, -9.00000000e-01, -8.00000000e-01, -7.00000000e-01,\n",
       "       -6.00000000e-01, -5.00000000e-01, -4.00000000e-01, -3.00000000e-01,\n",
       "       -2.00000000e-01, -1.00000000e-01, -2.22044605e-16,  1.00000000e-01,\n",
       "        2.00000000e-01,  3.00000000e-01,  4.00000000e-01,  5.00000000e-01,\n",
       "        6.00000000e-01,  7.00000000e-01,  8.00000000e-01,  9.00000000e-01])"
      ]
     },
     "execution_count": 2,
     "metadata": {},
     "output_type": "execute_result"
    }
   ],
   "source": [
    "np.arange(-1,1,0.1)"
   ]
  },
  {
   "cell_type": "code",
   "execution_count": 3,
   "metadata": {},
   "outputs": [
    {
     "data": {
      "text/plain": [
       "array([-1. , -0.9, -0.8, -0.7, -0.6, -0.5, -0.4, -0.3, -0.2, -0.1,  0. ,\n",
       "        0.1,  0.2,  0.3,  0.4,  0.5,  0.6,  0.7,  0.8,  0.9,  1. ])"
      ]
     },
     "execution_count": 3,
     "metadata": {},
     "output_type": "execute_result"
    }
   ],
   "source": [
    "np.linspace(-1, 1, 21)"
   ]
  },
  {
   "cell_type": "code",
   "execution_count": 4,
   "metadata": {},
   "outputs": [
    {
     "data": {
      "text/plain": [
       "Text(0,0.5,'y')"
      ]
     },
     "execution_count": 4,
     "metadata": {},
     "output_type": "execute_result"
    },
    {
     "data": {
      "image/png": "[encoded data removed]",
      "text/plain": [
       "<Figure size 432x288 with 1 Axes>"
      ]
     },
     "metadata": {
      "needs_background": "light"
     },
     "output_type": "display_data"
    }
   ],
   "source": [
    "x = np.linspace(-1,1,21)\n",
    "y = x**3\n",
    "\n",
    "plt.plot(x, y)\n",
    "plt.xlabel('x')\n",
    "plt.ylabel('y')"
   ]
  },
  {
   "cell_type": "markdown",
   "metadata": {},
   "source": [
    "### bincount()\n",
    "- 정수가 나타난 횟수를 센다"
   ]
  },
  {
   "cell_type": "code",
   "execution_count": 5,
   "metadata": {},
   "outputs": [
    {
     "data": {
      "text/plain": [
       "array([3, 9, 6, 5, 1, 6, 7, 7, 8, 5, 8, 9, 2, 6, 6, 7, 4, 3, 7, 8, 1, 8,\n",
       "       6, 9, 2, 8, 5, 9, 3, 3, 7, 2, 0, 9, 6, 0, 8, 6, 0, 3, 0, 4, 5, 1,\n",
       "       3, 3, 3, 9, 8, 9, 0, 2, 2, 7, 1, 4, 3, 8, 1, 3, 2, 2, 1, 4, 7, 8,\n",
       "       1, 3, 7, 6, 4, 1, 2, 5, 7, 3, 5, 7, 5, 1, 4, 0, 9, 2, 4, 3, 8, 1,\n",
       "       2, 5, 1, 4, 5, 3, 3, 9, 0, 9, 2, 9])"
      ]
     },
     "execution_count": 5,
     "metadata": {},
     "output_type": "execute_result"
    }
   ],
   "source": [
    "a = np.random.randint(10, size=100)\n",
    "a"
   ]
  },
  {
   "cell_type": "code",
   "execution_count": 6,
   "metadata": {},
   "outputs": [
    {
     "data": {
      "text/plain": [
       "array([ 7, 11, 11, 15,  8,  9,  8, 10, 10, 11], dtype=int64)"
      ]
     },
     "execution_count": 6,
     "metadata": {},
     "output_type": "execute_result"
    }
   ],
   "source": [
    "np.bincount(a)"
   ]
  },
  {
   "cell_type": "code",
   "execution_count": 8,
   "metadata": {},
   "outputs": [
    {
     "data": {
      "text/plain": [
       "(0, 16)"
      ]
     },
     "execution_count": 8,
     "metadata": {},
     "output_type": "execute_result"
    },
    {
     "data": {
      "image/png": "[encoded data removed]",
      "text/plain": [
       "<Figure size 432x288 with 1 Axes>"
      ]
     },
     "metadata": {
      "needs_background": "light"
     },
     "output_type": "display_data"
    }
   ],
   "source": [
    "plt.plot(np.bincount(a))\n",
    "plt.ylim(0,16)"
   ]
  },
  {
   "cell_type": "code",
   "execution_count": 15,
   "metadata": {},
   "outputs": [
    {
     "data": {
      "text/plain": [
       "array([7, 5, 8, 8, 6, 9, 5, 5, 8, 7, 9, 9, 7, 9, 9, 5, 6, 5, 5, 7, 9, 6,\n",
       "       6, 8, 8, 5, 5, 6, 7, 9, 5, 9, 7, 7, 5, 9, 5, 5, 5, 5, 7, 7, 5, 5,\n",
       "       9, 9, 5, 6, 8, 8, 5, 8, 9, 6, 9, 8, 8, 9, 5, 7, 5, 9, 8, 8, 7, 5,\n",
       "       6, 8, 5, 5, 5, 7, 9, 9, 7, 6, 5, 7, 8, 5, 9, 8, 7, 5, 8, 5, 8, 8,\n",
       "       6, 5, 9, 7, 5, 6, 9, 5, 5, 5, 6, 8])"
      ]
     },
     "execution_count": 15,
     "metadata": {},
     "output_type": "execute_result"
    }
   ],
   "source": [
    "a = np.random.randint(5,10,size=100)\n",
    "a"
   ]
  },
  {
   "cell_type": "code",
   "execution_count": 18,
   "metadata": {},
   "outputs": [
    {
     "data": {
      "text/plain": [
       "array([ 0,  0,  0,  0,  0, 33, 12, 16, 19, 20], dtype=int64)"
      ]
     },
     "execution_count": 18,
     "metadata": {},
     "output_type": "execute_result"
    }
   ],
   "source": [
    "np.bincount(a) # 항상 0인 값부터 갯수를 출력한다"
   ]
  },
  {
   "cell_type": "markdown",
   "metadata": {},
   "source": [
    "### histogram()\n",
    "- 설정한 구간에서의 항목 갯수를 출력한다"
   ]
  },
  {
   "cell_type": "code",
   "execution_count": 22,
   "metadata": {
    "scrolled": true
   },
   "outputs": [
    {
     "name": "stdout",
     "output_type": "stream",
     "text": [
      "Help on function histogram in module numpy.lib.histograms:\n",
      "\n",
      "histogram(a, bins=10, range=None, normed=None, weights=None, density=None)\n",
      "    Compute the histogram of a set of data.\n",
      "    \n",
      "    Parameters\n",
      "    ----------\n",
      "    a : array_like\n",
      "        Input data. The histogram is computed over the flattened array.\n",
      "    bins : int or sequence of scalars or str, optional\n",
      "        If `bins` is an int, it defines the number of equal-width\n",
      "        bins in the given range (10, by default). If `bins` is a\n",
      "        sequence, it defines the bin edges, including the rightmost\n",
      "        edge, allowing for non-uniform bin widths.\n",
      "    \n",
      "        .. versionadded:: 1.11.0\n",
      "    \n",
      "        If `bins` is a string, it defines the method used to calculate the\n",
      "        optimal bin width, as defined by `histogram_bin_edges`.\n",
      "    \n",
      "    range : (float, float), optional\n",
      "        The lower and upper range of the bins.  If not provided, range\n",
      "        is simply ``(a.min(), a.max())``.  Values outside the range are\n",
      "        ignored. The first element of the range must be less than or\n",
      "        equal to the second. `range` affects the automatic bin\n",
      "        computation as well. While bin width is computed to be optimal\n",
      "        based on the actual data within `range`, the bin count will fill\n",
      "        the entire range including portions containing no data.\n",
      "    normed : bool, optional\n",
      "    \n",
      "        .. deprecated:: 1.6.0\n",
      "    \n",
      "        This is equivalent to the `density` argument, but produces incorrect\n",
      "        results for unequal bin widths. It should not be used.\n",
      "    \n",
      "        .. versionchanged:: 1.15.0\n",
      "            DeprecationWarnings are actually emitted.\n",
      "    \n",
      "    weights : array_like, optional\n",
      "        An array of weights, of the same shape as `a`.  Each value in\n",
      "        `a` only contributes its associated weight towards the bin count\n",
      "        (instead of 1). If `density` is True, the weights are\n",
      "        normalized, so that the integral of the density over the range\n",
      "        remains 1.\n",
      "    density : bool, optional\n",
      "        If ``False``, the result will contain the number of samples in\n",
      "        each bin. If ``True``, the result is the value of the\n",
      "        probability *density* function at the bin, normalized such that\n",
      "        the *integral* over the range is 1. Note that the sum of the\n",
      "        histogram values will not be equal to 1 unless bins of unity\n",
      "        width are chosen; it is not a probability *mass* function.\n",
      "    \n",
      "        Overrides the ``normed`` keyword if given.\n",
      "    \n",
      "    Returns\n",
      "    -------\n",
      "    hist : array\n",
      "        The values of the histogram. See `density` and `weights` for a\n",
      "        description of the possible semantics.\n",
      "    bin_edges : array of dtype float\n",
      "        Return the bin edges ``(length(hist)+1)``.\n",
      "    \n",
      "    \n",
      "    See Also\n",
      "    --------\n",
      "    histogramdd, bincount, searchsorted, digitize, histogram_bin_edges\n",
      "    \n",
      "    Notes\n",
      "    -----\n",
      "    All but the last (righthand-most) bin is half-open.  In other words,\n",
      "    if `bins` is::\n",
      "    \n",
      "      [1, 2, 3, 4]\n",
      "    \n",
      "    then the first bin is ``[1, 2)`` (including 1, but excluding 2) and\n",
      "    the second ``[2, 3)``.  The last bin, however, is ``[3, 4]``, which\n",
      "    *includes* 4.\n",
      "    \n",
      "    \n",
      "    Examples\n",
      "    --------\n",
      "    >>> np.histogram([1, 2, 1], bins=[0, 1, 2, 3])\n",
      "    (array([0, 2, 1]), array([0, 1, 2, 3]))\n",
      "    >>> np.histogram(np.arange(4), bins=np.arange(5), density=True)\n",
      "    (array([ 0.25,  0.25,  0.25,  0.25]), array([0, 1, 2, 3, 4]))\n",
      "    >>> np.histogram([[1, 2, 1], [1, 0, 1]], bins=[0,1,2,3])\n",
      "    (array([1, 4, 1]), array([0, 1, 2, 3]))\n",
      "    \n",
      "    >>> a = np.arange(5)\n",
      "    >>> hist, bin_edges = np.histogram(a, density=True)\n",
      "    >>> hist\n",
      "    array([ 0.5,  0. ,  0.5,  0. ,  0. ,  0.5,  0. ,  0.5,  0. ,  0.5])\n",
      "    >>> hist.sum()\n",
      "    2.4999999999999996\n",
      "    >>> np.sum(hist * np.diff(bin_edges))\n",
      "    1.0\n",
      "    \n",
      "    .. versionadded:: 1.11.0\n",
      "    \n",
      "    Automated Bin Selection Methods example, using 2 peak random data\n",
      "    with 2000 points:\n",
      "    \n",
      "    >>> import matplotlib.pyplot as plt\n",
      "    >>> rng = np.random.RandomState(10)  # deterministic random data\n",
      "    >>> a = np.hstack((rng.normal(size=1000),\n",
      "    ...                rng.normal(loc=5, scale=2, size=1000)))\n",
      "    >>> plt.hist(a, bins='auto')  # arguments are passed to np.histogram\n",
      "    >>> plt.title(\"Histogram with 'auto' bins\")\n",
      "    >>> plt.show()\n",
      "\n"
     ]
    }
   ],
   "source": [
    "help(np.histogram)"
   ]
  },
  {
   "cell_type": "code",
   "execution_count": 9,
   "metadata": {},
   "outputs": [
    {
     "data": {
      "text/plain": [
       "array([0.36946975, 0.41819065, 0.26043319, 0.41189198, 0.10675344,\n",
       "       0.63036662, 0.96760263, 0.68774185, 0.2644575 , 0.78423764,\n",
       "       0.0541544 , 0.34643897, 0.07821933, 0.32823558, 0.8980541 ,\n",
       "       0.6137424 , 0.60784572, 0.3732026 , 0.2722837 , 0.11697252,\n",
       "       0.91732794, 0.98820596, 0.73884562, 0.9021933 , 0.21474366,\n",
       "       0.13242857, 0.34952411, 0.44102002, 0.32867967, 0.01818484,\n",
       "       0.52613498, 0.24859949, 0.56934454, 0.86962531, 0.02803689,\n",
       "       0.46867419, 0.40793244, 0.35812968, 0.75455156, 0.1012063 ,\n",
       "       0.28074067, 0.30405361, 0.14918164, 0.17235613, 0.47784441,\n",
       "       0.64930994, 0.71911788, 0.32154447, 0.40279922, 0.47119957,\n",
       "       0.90332985, 0.84751731, 0.69195918, 0.48145351, 0.68784027,\n",
       "       0.02045661, 0.9367096 , 0.81335978, 0.53216684, 0.59226726,\n",
       "       0.66683716, 0.38695862, 0.98848561, 0.60922368, 0.89369103,\n",
       "       0.61468872, 0.41912755, 0.63645494, 0.14582128, 0.53496653,\n",
       "       0.34239396, 0.9550657 , 0.14629945, 0.82753959, 0.47787595,\n",
       "       0.67158499, 0.65824934, 0.24455786, 0.67978645, 0.45831704,\n",
       "       0.32400288, 0.23085571, 0.96084207, 0.53164867, 0.77197226,\n",
       "       0.55557079, 0.85635229, 0.76620649, 0.50927254, 0.54780246,\n",
       "       0.81179727, 0.35465439, 0.84641053, 0.66622833, 0.86520633,\n",
       "       0.78327629, 0.94134399, 0.24005322, 0.22647976, 0.16466136])"
      ]
     },
     "execution_count": 9,
     "metadata": {},
     "output_type": "execute_result"
    }
   ],
   "source": [
    "a = np.random.rand(100)\n",
    "a"
   ]
  },
  {
   "cell_type": "code",
   "execution_count": 10,
   "metadata": {},
   "outputs": [
    {
     "data": {
      "text/plain": [
       "(0.018184838483497945, 0.9884856098136391)"
      ]
     },
     "execution_count": 10,
     "metadata": {},
     "output_type": "execute_result"
    }
   ],
   "source": [
    "a.min(), a.max()"
   ]
  },
  {
   "cell_type": "code",
   "execution_count": 11,
   "metadata": {},
   "outputs": [
    {
     "data": {
      "text/plain": [
       "(array([ 7.,  7., 11., 13., 11.,  9., 15.,  7.,  8., 12.]),\n",
       " array([0.01818484, 0.11521492, 0.21224499, 0.30927507, 0.40630515,\n",
       "        0.50333522, 0.6003653 , 0.69739538, 0.79442546, 0.89145553,\n",
       "        0.98848561]),\n",
       " <a list of 10 Patch objects>)"
      ]
     },
     "execution_count": 11,
     "metadata": {},
     "output_type": "execute_result"
    },
    {
     "data": {
      "image/png": "[encoded data removed]",
      "text/plain": [
       "<Figure size 432x288 with 1 Axes>"
      ]
     },
     "metadata": {
      "needs_background": "light"
     },
     "output_type": "display_data"
    }
   ],
   "source": [
    "plt.hist(a)"
   ]
  },
  {
   "cell_type": "code",
   "execution_count": 12,
   "metadata": {},
   "outputs": [
    {
     "data": {
      "text/plain": [
       "(array([ 7,  7, 11, 13, 11,  9, 15,  7,  8, 12], dtype=int64),\n",
       " array([0.01818484, 0.11521492, 0.21224499, 0.30927507, 0.40630515,\n",
       "        0.50333522, 0.6003653 , 0.69739538, 0.79442546, 0.89145553,\n",
       "        0.98848561]))"
      ]
     },
     "execution_count": 12,
     "metadata": {},
     "output_type": "execute_result"
    }
   ],
   "source": [
    "np.histogram(a)"
   ]
  },
  {
   "cell_type": "code",
   "execution_count": 13,
   "metadata": {},
   "outputs": [
    {
     "data": {
      "text/plain": [
       "(array([ 5,  9, 10, 13, 12,  9, 15,  7, 10], dtype=int64),\n",
       " array([0. , 0.1, 0.2, 0.3, 0.4, 0.5, 0.6, 0.7, 0.8, 0.9]))"
      ]
     },
     "execution_count": 13,
     "metadata": {},
     "output_type": "execute_result"
    }
   ],
   "source": [
    "n, b = np.histogram(a, bins=np.arange(0,1,0.1))\n",
    "n, b"
   ]
  },
  {
   "cell_type": "code",
   "execution_count": 14,
   "metadata": {},
   "outputs": [
    {
     "data": {
      "text/plain": [
       "(array([ 5.,  9., 10., 13., 12.,  9., 15.,  7., 10.]),\n",
       " array([0. , 0.1, 0.2, 0.3, 0.4, 0.5, 0.6, 0.7, 0.8, 0.9]),\n",
       " <a list of 9 Patch objects>)"
      ]
     },
     "execution_count": 14,
     "metadata": {},
     "output_type": "execute_result"
    },
    {
     "data": {
      "image/png": "[encoded data removed]",
      "text/plain": [
       "<Figure size 432x288 with 1 Axes>"
      ]
     },
     "metadata": {
      "needs_background": "light"
     },
     "output_type": "display_data"
    }
   ],
   "source": [
    "plt.hist(a, bins=b)"
   ]
  },
  {
   "cell_type": "markdown",
   "metadata": {},
   "source": [
    "### digitize()\n",
    "- 설정한 구간값을 반환한다"
   ]
  },
  {
   "cell_type": "code",
   "execution_count": 34,
   "metadata": {
    "scrolled": true
   },
   "outputs": [
    {
     "name": "stdout",
     "output_type": "stream",
     "text": [
      "Help on built-in function digitize in module numpy.core.multiarray:\n",
      "\n",
      "digitize(...)\n",
      "    digitize(x, bins, right=False)\n",
      "    \n",
      "    Return the indices of the bins to which each value in input array belongs.\n",
      "    \n",
      "    =========  =============  ============================\n",
      "    `right`    order of bins  returned index `i` satisfies\n",
      "    =========  =============  ============================\n",
      "    ``False``  increasing     ``bins[i-1] <= x < bins[i]``\n",
      "    ``True``   increasing     ``bins[i-1] < x <= bins[i]``\n",
      "    ``False``  decreasing     ``bins[i-1] > x >= bins[i]``\n",
      "    ``True``   decreasing     ``bins[i-1] >= x > bins[i]``\n",
      "    =========  =============  ============================\n",
      "    \n",
      "    If values in `x` are beyond the bounds of `bins`, 0 or ``len(bins)`` is\n",
      "    returned as appropriate.\n",
      "    \n",
      "    Parameters\n",
      "    ----------\n",
      "    x : array_like\n",
      "        Input array to be binned. Prior to NumPy 1.10.0, this array had to\n",
      "        be 1-dimensional, but can now have any shape.\n",
      "    bins : array_like\n",
      "        Array of bins. It has to be 1-dimensional and monotonic.\n",
      "    right : bool, optional\n",
      "        Indicating whether the intervals include the right or the left bin\n",
      "        edge. Default behavior is (right==False) indicating that the interval\n",
      "        does not include the right edge. The left bin end is open in this\n",
      "        case, i.e., bins[i-1] <= x < bins[i] is the default behavior for\n",
      "        monotonically increasing bins.\n",
      "    \n",
      "    Returns\n",
      "    -------\n",
      "    indices : ndarray of ints\n",
      "        Output array of indices, of same shape as `x`.\n",
      "    \n",
      "    Raises\n",
      "    ------\n",
      "    ValueError\n",
      "        If `bins` is not monotonic.\n",
      "    TypeError\n",
      "        If the type of the input is complex.\n",
      "    \n",
      "    See Also\n",
      "    --------\n",
      "    bincount, histogram, unique, searchsorted\n",
      "    \n",
      "    Notes\n",
      "    -----\n",
      "    If values in `x` are such that they fall outside the bin range,\n",
      "    attempting to index `bins` with the indices that `digitize` returns\n",
      "    will result in an IndexError.\n",
      "    \n",
      "    .. versionadded:: 1.10.0\n",
      "    \n",
      "    `np.digitize` is  implemented in terms of `np.searchsorted`. This means\n",
      "    that a binary search is used to bin the values, which scales much better\n",
      "    for larger number of bins than the previous linear search. It also removes\n",
      "    the requirement for the input array to be 1-dimensional.\n",
      "    \n",
      "    For monotonically _increasing_ `bins`, the following are equivalent::\n",
      "    \n",
      "        np.digitize(x, bins, right=True)\n",
      "        np.searchsorted(bins, x, side='left')\n",
      "    \n",
      "    Note that as the order of the arguments are reversed, the side must be too.\n",
      "    The `searchsorted` call is marginally faster, as it does not do any\n",
      "    monotonicity checks. Perhaps more importantly, it supports all dtypes.\n",
      "    \n",
      "    Examples\n",
      "    --------\n",
      "    >>> x = np.array([0.2, 6.4, 3.0, 1.6])\n",
      "    >>> bins = np.array([0.0, 1.0, 2.5, 4.0, 10.0])\n",
      "    >>> inds = np.digitize(x, bins)\n",
      "    >>> inds\n",
      "    array([1, 4, 3, 2])\n",
      "    >>> for n in range(x.size):\n",
      "    ...   print(bins[inds[n]-1], \"<=\", x[n], \"<\", bins[inds[n]])\n",
      "    ...\n",
      "    0.0 <= 0.2 < 1.0\n",
      "    4.0 <= 6.4 < 10.0\n",
      "    2.5 <= 3.0 < 4.0\n",
      "    1.0 <= 1.6 < 2.5\n",
      "    \n",
      "    >>> x = np.array([1.2, 10.0, 12.4, 15.5, 20.])\n",
      "    >>> bins = np.array([0, 5, 10, 15, 20])\n",
      "    >>> np.digitize(x,bins,right=True)\n",
      "    array([1, 2, 3, 4, 4])\n",
      "    >>> np.digitize(x,bins,right=False)\n",
      "    array([1, 3, 3, 4, 5])\n",
      "\n"
     ]
    }
   ],
   "source": [
    "help(np.digitize)"
   ]
  },
  {
   "cell_type": "code",
   "execution_count": 15,
   "metadata": {},
   "outputs": [
    {
     "data": {
      "text/plain": [
       "array([4, 2, 2, 3, 4, 1, 0, 3, 4, 2], dtype=int64)"
      ]
     },
     "execution_count": 15,
     "metadata": {},
     "output_type": "execute_result"
    }
   ],
   "source": [
    "scores = [93, 78, 77, 89, 100, 67, 51, 82, 99, 71]\n",
    "\n",
    "d = np.digitize(scores, bins=[60,70,80,90])\n",
    "d"
   ]
  },
  {
   "cell_type": "code",
   "execution_count": 16,
   "metadata": {},
   "outputs": [
    {
     "data": {
      "text/plain": [
       "['수', '미', '미', '우', '수', '양', '가', '우', '수', '미']"
      ]
     },
     "execution_count": 16,
     "metadata": {},
     "output_type": "execute_result"
    }
   ],
   "source": [
    "grade = ['가', '양', '미', '우', '수']\n",
    "[grade[i] for i in d]"
   ]
  },
  {
   "cell_type": "markdown",
   "metadata": {},
   "source": [
    "> **연습문제**<br>\n",
    "Iris 데이터에서 첫번째 칼럼의 값을 구간값으로 바꾸시오.<br>\n",
    "(어떻게 구간을 나누는게 좋을지 고민해보자.)"
   ]
  },
  {
   "cell_type": "code",
   "execution_count": 17,
   "metadata": {},
   "outputs": [],
   "source": [
    "f = open('iris.csv')\n",
    "\n",
    "line = f.readline()\n",
    "features = line.strip().split(',')[:4]\n",
    "\n",
    "labels = ['Iris-setosa', 'Iris-versicolor', 'Iris-virginica']\n",
    "\n",
    "data = []\n",
    "for line in f:\n",
    "    l = line.strip().split(',')\n",
    "    l[:4] = [float(i) for i in l[:4]]\n",
    "    l[4] = labels.index(l[4])\n",
    "    \n",
    "    data.append(l)\n",
    "\n",
    "f.close()\n",
    "\n",
    "iris = np.array(data)"
   ]
  },
  {
   "cell_type": "code",
   "execution_count": 18,
   "metadata": {},
   "outputs": [
    {
     "data": {
      "text/plain": [
       "array([5.1, 4.9, 4.7, 4.6, 5. , 5.4, 4.6, 5. , 4.4, 4.9, 5.4, 4.8, 4.8,\n",
       "       4.3, 5.8, 5.7, 5.4, 5.1, 5.7, 5.1, 5.4, 5.1, 4.6, 5.1, 4.8, 5. ,\n",
       "       5. , 5.2, 5.2, 4.7, 4.8, 5.4, 5.2, 5.5, 4.9, 5. , 5.5, 4.9, 4.4,\n",
       "       5.1, 5. , 4.5, 4.4, 5. , 5.1, 4.8, 5.1, 4.6, 5.3, 5. , 7. , 6.4,\n",
       "       6.9, 5.5, 6.5, 5.7, 6.3, 4.9, 6.6, 5.2, 5. , 5.9, 6. , 6.1, 5.6,\n",
       "       6.7, 5.6, 5.8, 6.2, 5.6, 5.9, 6.1, 6.3, 6.1, 6.4, 6.6, 6.8, 6.7,\n",
       "       6. , 5.7, 5.5, 5.5, 5.8, 6. , 5.4, 6. , 6.7, 6.3, 5.6, 5.5, 5.5,\n",
       "       6.1, 5.8, 5. , 5.6, 5.7, 5.7, 6.2, 5.1, 5.7, 6.3, 5.8, 7.1, 6.3,\n",
       "       6.5, 7.6, 4.9, 7.3, 6.7, 7.2, 6.5, 6.4, 6.8, 5.7, 5.8, 6.4, 6.5,\n",
       "       7.7, 7.7, 6. , 6.9, 5.6, 7.7, 6.3, 6.7, 7.2, 6.2, 6.1, 6.4, 7.2,\n",
       "       7.4, 7.9, 6.4, 6.3, 6.1, 7.7, 6.3, 6.4, 6. , 6.9, 6.7, 6.9, 5.8,\n",
       "       6.8, 6.7, 6.7, 6.3, 6.5, 6.2, 5.9])"
      ]
     },
     "execution_count": 18,
     "metadata": {},
     "output_type": "execute_result"
    }
   ],
   "source": [
    "sepal_length = iris[:,0]\n",
    "sepal_length"
   ]
  },
  {
   "cell_type": "code",
   "execution_count": 23,
   "metadata": {},
   "outputs": [
    {
     "data": {
      "image/png": "[encoded data removed]",
      "text/plain": [
       "<Figure size 432x288 with 1 Axes>"
      ]
     },
     "metadata": {
      "needs_background": "light"
     },
     "output_type": "display_data"
    }
   ],
   "source": [
    "plt.plot(sepal_length)\n",
    "plt.grid()"
   ]
  },
  {
   "cell_type": "code",
   "execution_count": 22,
   "metadata": {},
   "outputs": [
    {
     "data": {
      "image/png": "[encoded data removed]",
      "text/plain": [
       "<Figure size 432x288 with 1 Axes>"
      ]
     },
     "metadata": {
      "needs_background": "light"
     },
     "output_type": "display_data"
    }
   ],
   "source": [
    "plt.hist(sepal_length, bins=100)\n",
    "pass"
   ]
  },
  {
   "cell_type": "code",
   "execution_count": 29,
   "metadata": {},
   "outputs": [
    {
     "data": {
      "text/plain": [
       "(5.8, 4.3, 5.006)"
      ]
     },
     "execution_count": 29,
     "metadata": {},
     "output_type": "execute_result"
    }
   ],
   "source": [
    "t1 = sepal_length[:50]\n",
    "t2 = sepal_length[50:100]\n",
    "t3 = sepal_length[100:]\n",
    "\n",
    "t1.max(), t1.min(), t1.mean()"
   ]
  },
  {
   "cell_type": "code",
   "execution_count": 30,
   "metadata": {},
   "outputs": [
    {
     "data": {
      "text/plain": [
       "(7.0, 4.9, 5.936)"
      ]
     },
     "execution_count": 30,
     "metadata": {},
     "output_type": "execute_result"
    }
   ],
   "source": [
    "t2.max(), t2.min(), t2.mean()"
   ]
  },
  {
   "cell_type": "code",
   "execution_count": 31,
   "metadata": {},
   "outputs": [
    {
     "data": {
      "text/plain": [
       "(7.9, 4.9, 6.587999999999998)"
      ]
     },
     "execution_count": 31,
     "metadata": {},
     "output_type": "execute_result"
    }
   ],
   "source": [
    "t3.max(), t3.min(), t3.mean()"
   ]
  },
  {
   "cell_type": "code",
   "execution_count": 37,
   "metadata": {},
   "outputs": [],
   "source": [
    "b = [t1.mean(), (t2.mean()+t1.mean())/2, t2.mean(), (t3.mean()+t2.mean())/2, t3.mean()]"
   ]
  },
  {
   "cell_type": "code",
   "execution_count": 39,
   "metadata": {},
   "outputs": [
    {
     "data": {
      "text/plain": [
       "array([1, 0, 0, 0, 0, 1, 0, 0, 0, 0, 1, 0, 0, 0, 2, 2, 1, 1, 2, 1, 1, 1,\n",
       "       0, 1, 0, 0, 0, 1, 1, 0, 0, 1, 1, 2, 0, 0, 2, 0, 0, 1, 0, 0, 0, 0,\n",
       "       1, 0, 1, 0, 1, 0, 5, 4, 5, 2, 4, 2, 4, 0, 5, 1, 0, 2, 3, 3, 2, 5,\n",
       "       2, 2, 3, 2, 2, 3, 4, 3, 4, 5, 5, 5, 3, 2, 2, 2, 2, 3, 1, 3, 5, 4,\n",
       "       2, 2, 2, 3, 2, 0, 2, 2, 2, 3, 1, 2, 4, 2, 5, 4, 4, 5, 0, 5, 5, 5,\n",
       "       4, 4, 5, 2, 2, 4, 4, 5, 5, 3, 5, 2, 5, 4, 5, 5, 3, 3, 4, 5, 5, 5,\n",
       "       4, 4, 3, 5, 4, 4, 3, 5, 5, 5, 2, 5, 5, 5, 4, 4, 3, 2], dtype=int64)"
      ]
     },
     "execution_count": 39,
     "metadata": {},
     "output_type": "execute_result"
    }
   ],
   "source": [
    "s2 = np.digitize(sepal_length, bins=b)\n",
    "s2"
   ]
  },
  {
   "cell_type": "code",
   "execution_count": 40,
   "metadata": {},
   "outputs": [
    {
     "data": {
      "text/plain": [
       "[<matplotlib.lines.Line2D at 0x1dacee2b240>]"
      ]
     },
     "execution_count": 40,
     "metadata": {},
     "output_type": "execute_result"
    },
    {
     "data": {
      "image/png": "[encoded data removed]",
      "text/plain": [
       "<Figure size 432x288 with 1 Axes>"
      ]
     },
     "metadata": {
      "needs_background": "light"
     },
     "output_type": "display_data"
    }
   ],
   "source": [
    "plt.plot(s2, 'ro')"
   ]
  },
  {
   "cell_type": "code",
   "execution_count": null,
   "metadata": {},
   "outputs": [],
   "source": []
  }
 ],
 "metadata": {
  "kernelspec": {
   "display_name": "Python 3",
   "language": "python",
   "name": "python3"
  },
  "language_info": {
   "codemirror_mode": {
    "name": "ipython",
    "version": 3
   },
   "file_extension": ".py",
   "mimetype": "text/x-python",
   "name": "python",
   "nbconvert_exporter": "python",
   "pygments_lexer": "ipython3",
   "version": "3.7.0"
  }
 },
 "nbformat": 4,
 "nbformat_minor": 2
}

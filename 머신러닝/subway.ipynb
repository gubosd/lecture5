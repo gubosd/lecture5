{
 "cells": [
  {
   "cell_type": "markdown",
   "metadata": {},
   "source": [
    "# 지하철"
   ]
  },
  {
   "cell_type": "code",
   "execution_count": 1,
   "metadata": {},
   "outputs": [],
   "source": [
    "import numpy as np\n",
    "import pandas as pd\n",
    "import matplotlib.pyplot as plt"
   ]
  },
  {
   "cell_type": "code",
   "execution_count": 19,
   "metadata": {},
   "outputs": [],
   "source": [
    "f = open('CARD_SUBWAY_MONTH_201901.csv', encoding='utf-8')\n",
    "\n",
    "head = f.readline()\n",
    "# s = head.strip().split(',')\n",
    "# [i.strip('\"') for i in s]\n",
    "\n",
    "data = []\n",
    "\n",
    "for line in f:\n",
    "    l = line.strip().split(',')\n",
    "    l2 = [i.strip('\"') for i in l]\n",
    "    \n",
    "    l2[0] = int(l2[0])\n",
    "    l2[2] = int(l2[2])\n",
    "    l2[4] = int(l2[4])\n",
    "    l2[5] = int(l2[5])\n",
    "    l2[6] = int(l2[6])\n",
    "    l2.append(l2[0]//10000)\n",
    "    l2.append((l2[0]//100)%100) # (l2[0]%10000)//100\n",
    "    l2.append(l2[0]%100)\n",
    "    \n",
    "    data.append(l2)\n",
    "\n",
    "f.close()"
   ]
  },
  {
   "cell_type": "code",
   "execution_count": 20,
   "metadata": {},
   "outputs": [
    {
     "data": {
      "text/plain": [
       "18334"
      ]
     },
     "execution_count": 20,
     "metadata": {},
     "output_type": "execute_result"
    }
   ],
   "source": [
    "len(data)"
   ]
  },
  {
   "cell_type": "code",
   "execution_count": 22,
   "metadata": {},
   "outputs": [
    {
     "data": {
      "text/plain": [
       "[[20190131, '2호선', 201, '시청', 29981, 29575, 20190203, 2019, 1, 31],\n",
       " [20190131, '1호선', 159, '동묘앞', 9483, 9727, 20190203, 2019, 1, 31],\n",
       " [20190131, '1호선', 158, '청량리(서울시립대입구)', 29384, 30328, 20190203, 2019, 1, 31],\n",
       " [20190131, '1호선', 157, '제기동', 25142, 26221, 20190203, 2019, 1, 31],\n",
       " [20190131, '1호선', 156, '신설동', 18001, 17784, 20190203, 2019, 1, 31],\n",
       " [20190131, '1호선', 155, '동대문', 14563, 15139, 20190203, 2019, 1, 31],\n",
       " [20190131, '1호선', 154, '종로5가', 30249, 29703, 20190203, 2019, 1, 31],\n",
       " [20190131, '1호선', 153, '종로3가', 36804, 35050, 20190203, 2019, 1, 31],\n",
       " [20190131, '1호선', 152, '종각', 51970, 50080, 20190203, 2019, 1, 31],\n",
       " [20190131, '1호선', 151, '시청', 29059, 29169, 20190203, 2019, 1, 31]]"
      ]
     },
     "execution_count": 22,
     "metadata": {},
     "output_type": "execute_result"
    }
   ],
   "source": [
    "data[-10:]"
   ]
  },
  {
   "cell_type": "code",
   "execution_count": 23,
   "metadata": {
    "collapsed": true
   },
   "outputs": [
    {
     "data": {
      "text/plain": [
       "[[1520, 1436],\n",
       " [275, 114],\n",
       " [1509, 1083],\n",
       " [357, 271],\n",
       " [1772, 1963],\n",
       " [787, 765],\n",
       " [2649, 2661],\n",
       " [734, 726],\n",
       " [1347, 1534],\n",
       " [1542, 1516]]"
      ]
     },
     "execution_count": 23,
     "metadata": {},
     "output_type": "execute_result"
    }
   ],
   "source": [
    "data2 = [ [line[4], line[5]] for line in data ]\n",
    "data2[:10]"
   ]
  },
  {
   "cell_type": "code",
   "execution_count": 24,
   "metadata": {},
   "outputs": [
    {
     "data": {
      "text/plain": [
       "(18334, 2)"
      ]
     },
     "execution_count": 24,
     "metadata": {},
     "output_type": "execute_result"
    }
   ],
   "source": [
    "subway = np.array(data2, dtype=float)\n",
    "subway.shape"
   ]
  },
  {
   "cell_type": "code",
   "execution_count": 25,
   "metadata": {},
   "outputs": [
    {
     "data": {
      "text/plain": [
       "<matplotlib.collections.PathCollection at 0x1a562addac8>"
      ]
     },
     "execution_count": 25,
     "metadata": {},
     "output_type": "execute_result"
    },
    {
     "data": {
      "image/png": "[encoded data removed]",
      "text/plain": [
       "<Figure size 432x288 with 1 Axes>"
      ]
     },
     "metadata": {
      "needs_background": "light"
     },
     "output_type": "display_data"
    }
   ],
   "source": [
    "import matplotlib.pyplot as plt\n",
    "\n",
    "plt.scatter(subway[:,0], subway[:,1])"
   ]
  },
  {
   "cell_type": "code",
   "execution_count": null,
   "metadata": {},
   "outputs": [],
   "source": []
  }
 ],
 "metadata": {
  "kernelspec": {
   "display_name": "Python 3",
   "language": "python",
   "name": "python3"
  },
  "language_info": {
   "codemirror_mode": {
    "name": "ipython",
    "version": 3
   },
   "file_extension": ".py",
   "mimetype": "text/x-python",
   "name": "python",
   "nbconvert_exporter": "python",
   "pygments_lexer": "ipython3",
   "version": "3.7.0"
  }
 },
 "nbformat": 4,
 "nbformat_minor": 2
}

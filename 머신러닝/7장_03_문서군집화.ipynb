{
 "cells": [
  {
   "cell_type": "markdown",
   "metadata": {},
   "source": [
    "### Introduction to Machine Learning with Python\n",
    "## Chapter 7. 텍스트 데이터 다루기\n",
    "---\n",
    "## IMDb 리뷰 - 문서 군집화 (토픽 모델링)"
   ]
  },
  {
   "cell_type": "markdown",
   "metadata": {},
   "source": [
    "- 토픽 모델링 : 비지도 학습으로 문서를 하나 또는 그 이상의 토픽으로 할당하는 작업\n",
    "- LDA (잠재 디리클레 할당, Latent Dirichlet Allocation) : PCA와 유사하게 그룹지어지는 문서들이 가지는 단어들의 성분을 구한다"
   ]
  },
  {
   "cell_type": "code",
   "execution_count": 1,
   "metadata": {},
   "outputs": [],
   "source": [
    "import numpy as np\n",
    "import pandas as pd\n",
    "import matplotlib.pyplot as plt"
   ]
  },
  {
   "cell_type": "code",
   "execution_count": 2,
   "metadata": {},
   "outputs": [],
   "source": [
    "imdb_train, imdb_test = np.load('imdb.npy')\n",
    "\n",
    "text_train = [s.decode().replace('<br />', '') for s in imdb_train.data]\n",
    "y_train = imdb_train.target"
   ]
  },
  {
   "cell_type": "markdown",
   "metadata": {},
   "source": [
    "- 15% 미만의 문서에서 나타나는 단어 중 가장 많이 출현하는 단어 10,000개를 선정한다"
   ]
  },
  {
   "cell_type": "code",
   "execution_count": 3,
   "metadata": {},
   "outputs": [],
   "source": [
    "from sklearn.feature_extraction.text import CountVectorizer\n",
    "\n",
    "vect = CountVectorizer(max_features=10000, max_df=0.15)"
   ]
  },
  {
   "cell_type": "code",
   "execution_count": 7,
   "metadata": {},
   "outputs": [],
   "source": [
    "X = vect.fit_transform(text_train)"
   ]
  },
  {
   "cell_type": "code",
   "execution_count": 8,
   "metadata": {},
   "outputs": [
    {
     "data": {
      "text/plain": [
       "array(['00', 'bikini', 'consider', 'elegance', 'gram', 'karloff',\n",
       "       'muscular', 'prone', 'shakespearean', 'thelma'], dtype='<U17')"
      ]
     },
     "execution_count": 8,
     "metadata": {},
     "output_type": "execute_result"
    }
   ],
   "source": [
    "fn = np.array(vect.get_feature_names())\n",
    "fn[::1000]"
   ]
  },
  {
   "cell_type": "code",
   "execution_count": 9,
   "metadata": {},
   "outputs": [
    {
     "data": {
      "text/plain": [
       "(25000, 10000)"
      ]
     },
     "execution_count": 9,
     "metadata": {},
     "output_type": "execute_result"
    }
   ],
   "source": [
    "X.shape"
   ]
  },
  {
   "cell_type": "code",
   "execution_count": 10,
   "metadata": {},
   "outputs": [
    {
     "data": {
      "text/plain": [
       "array([['thing', 'now', 'real', 'years', 'doesn', 'actors', 'another',\n",
       "        'before', 'though']], dtype='<U17')"
      ]
     },
     "execution_count": 10,
     "metadata": {},
     "output_type": "execute_result"
    }
   ],
   "source": [
    "fn[np.argsort((X>0).sum(axis=0))[0,:-10:-1]]"
   ]
  },
  {
   "cell_type": "code",
   "execution_count": 11,
   "metadata": {},
   "outputs": [
    {
     "data": {
      "text/plain": [
       "array([['zenia', 'hackenstein', 'khouri', 'hagar', 'darkman',\n",
       "        'kriemhild', 'ae', 'sarne', 'newcombe', 'floriane']], dtype='<U17')"
      ]
     },
     "execution_count": 11,
     "metadata": {},
     "output_type": "execute_result"
    }
   ],
   "source": [
    "fn[np.argsort((X>0).sum(axis=0))[0,:10]]"
   ]
  },
  {
   "cell_type": "code",
   "execution_count": 14,
   "metadata": {},
   "outputs": [
    {
     "data": {
      "text/plain": [
       "array([['din', 'lin', 'beth', 'owl', 'therapist', 'manga', 'soles',\n",
       "        'nanny', 'thorn', 'canon']], dtype='<U17')"
      ]
     },
     "execution_count": 14,
     "metadata": {},
     "output_type": "execute_result"
    }
   ],
   "source": [
    "fn[np.argsort((X>0).sum(axis=0))[0,500:510]]"
   ]
  },
  {
   "cell_type": "markdown",
   "metadata": {},
   "source": [
    "- LDA 를 이용하여 주된 토픽 10개를 선정하고, X 를 해당 좌표로 변환한다."
   ]
  },
  {
   "cell_type": "code",
   "execution_count": 32,
   "metadata": {},
   "outputs": [],
   "source": [
    "'''from sklearn.decomposition import LatentDirichletAllocation\n",
    "\n",
    "lda = LatentDirichletAllocation(n_components=10, learning_method='batch', max_iter=25,\n",
    "                               random_state=2019)\n",
    "topics = lda.fit_transform(X)'''"
   ]
  },
  {
   "cell_type": "code",
   "execution_count": 15,
   "metadata": {},
   "outputs": [],
   "source": [
    "# np.save('imdb_lda.npy', [lda.components_, topics])\n",
    "lda_components_, topics = np.load('imdb_lda.npy')"
   ]
  },
  {
   "cell_type": "code",
   "execution_count": 17,
   "metadata": {},
   "outputs": [
    {
     "data": {
      "text/plain": [
       "((10, 10000), (25000, 10))"
      ]
     },
     "execution_count": 17,
     "metadata": {},
     "output_type": "execute_result"
    }
   ],
   "source": [
    "lda_components_.shape, topics.shape"
   ]
  },
  {
   "cell_type": "code",
   "execution_count": 35,
   "metadata": {
    "scrolled": false
   },
   "outputs": [
    {
     "name": "stdout",
     "output_type": "stream",
     "text": [
      "topic: 0\n",
      "['role' 'performance' 'john' 'cast' 'played' 'plays' 'actor' 'robert'\n",
      " 'young' 'performances']\n",
      "\n",
      "\n",
      "topic: 1\n",
      "['dvd' 'years' 'video' 'saw' 'tv' 'now' 'remember' 'am' 'again' 'since']\n",
      "\n",
      "\n",
      "topic: 2\n",
      "['actors' 'director' 'work' 'interesting' 'though' 'quite' 'script'\n",
      " 'doesn' 'however' 'didn']\n",
      "\n",
      "\n",
      "topic: 3\n",
      "['worst' 'thing' 'guy' 'nothing' 'didn' 'stupid' 'minutes' 'funny'\n",
      " 'actually' 'want']\n",
      "\n",
      "\n",
      "topic: 4\n",
      "['war' 'world' 'us' 'american' 'between' 'both' 'history' 'own' 'yet'\n",
      " 'work']\n",
      "\n",
      "\n",
      "topic: 5\n",
      "['show' 'series' 'episode' 'action' 'episodes' 'tv' 'game' 'season' 'new'\n",
      " 'original']\n",
      "\n",
      "\n",
      "topic: 6\n",
      "['funny' 'show' 'comedy' 'music' 'musical' 'song' 'old' 'songs' 'fun'\n",
      " 'wonderful']\n",
      "\n",
      "\n",
      "topic: 7\n",
      "['family' 'world' 'us' 'kids' 'children' 'real' 'book' 'our' 'things'\n",
      " 'old']\n",
      "\n",
      "\n",
      "topic: 8\n",
      "['horror' 'effects' 'gore' 'special' 'blood' 'scary' 'pretty' 'budget'\n",
      " 'zombie' 'killer']\n",
      "\n",
      "\n",
      "topic: 9\n",
      "['woman' 'house' 'wife' 'girl' 'sex' 'gets' 'young' 'husband' 'women'\n",
      " 'seems']\n",
      "\n",
      "\n"
     ]
    }
   ],
   "source": [
    "sorting = np.argsort(lda_components_,axis=1)[:,::-1]\n",
    "fn = np.array(fn)\n",
    "\n",
    "for i in range(len(lda_components_)):\n",
    "    print('topic: %d' % i)\n",
    "    print(fn[sorting[i]][:10])\n",
    "    print('\\n')"
   ]
  }
 ],
 "metadata": {
  "kernelspec": {
   "display_name": "Python 3",
   "language": "python",
   "name": "python3"
  },
  "language_info": {
   "codemirror_mode": {
    "name": "ipython",
    "version": 3
   },
   "file_extension": ".py",
   "mimetype": "text/x-python",
   "name": "python",
   "nbconvert_exporter": "python",
   "pygments_lexer": "ipython3",
   "version": "3.7.0"
  }
 },
 "nbformat": 4,
 "nbformat_minor": 1
}
